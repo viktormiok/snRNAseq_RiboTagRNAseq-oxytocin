{
 "cells": [
  {
   "cell_type": "code",
   "execution_count": 1,
   "id": "introductory-cheat",
   "metadata": {},
   "outputs": [],
   "source": [
    "inst <- suppressMessages(lapply(c('SummarizedExperiment',\n",
    "                                  'pheatmap',\n",
    "                                  'ggplot2',\n",
    "                                  'EnhancedVolcano',\n",
    "                                  'VennDiagram',\n",
    "                                  'org.Mm.eg.db',\n",
    "                                  'clusterProfiler',\n",
    "                                  'readxl',\n",
    "                                  'tidyverse',\n",
    "                                  'UpSetR'\n",
    "                                 ),\n",
    "                                 library,\n",
    "                                character.only = TRUE)\n",
    ") "
   ]
  },
  {
   "cell_type": "code",
   "execution_count": 2,
   "id": "blond-specific",
   "metadata": {},
   "outputs": [],
   "source": [
    "bool_plot = TRUE"
   ]
  },
  {
   "cell_type": "code",
   "execution_count": 3,
   "id": "activated-bennett",
   "metadata": {},
   "outputs": [],
   "source": [
    "setwd('~/Documents/consultation/Tim/snRNA-seq_oxytocin/results/panels')"
   ]
  },
  {
   "cell_type": "code",
   "execution_count": 4,
   "id": "resistant-portrait",
   "metadata": {
    "scrolled": false
   },
   "outputs": [],
   "source": [
    "if(bool_plot==FALSE){\n",
    "    #pdf(file = \"volcano_all_clust_0_vs_1.pdf\", width = 10, height = 10)\n",
    "        a0 <- read.csv('~/Documents/consultation/Tim/snRNA-seq_oxytocin/results/tables/all_clust_0_vs_1.csv', header=TRUE, sep=\"\\t\")\n",
    "        a0 <- a0[complete.cases(a0), ]\n",
    "        a0 <- a0[order(a0$p.value),]\n",
    "        a0s <- a0[a0$p.value<0.05,]\n",
    "        a0$p.value <-ifelse(a0$p.value<1e-40,1e-40,a0$p.value)\n",
    "\n",
    "        EnhancedVolcano(a0,\n",
    "                        lab = a0$gene_name,\n",
    "                        pCutoff = 0.05,\n",
    "                        FCcutoff = 10,\n",
    "                        axisLabSize = 30,\n",
    "                        title = NULL,\n",
    "                        subtitle = NULL,\n",
    "                        caption = NULL,\n",
    "                        x = 'log2fc',\n",
    "                        y = 'p.value',\n",
    "                        #ylim = c(0, 7.1),\n",
    "                        #xlim = c(-4.5, 4.5),\n",
    "                        selectLab = a0$gene_name[1:25],\n",
    "                        labSize = 5,\n",
    "                        col = c(\"grey30\", \"grey30\", \"red2\", \"red2\"),\n",
    "                        legendLabels = c('NS', expression(Log[2]~FC),'p-value>0.05', expression(p-value~and~log[2]~FC)),\n",
    "                        legendLabSize = 15)\n",
    "    #dev.off()                    \n",
    "}"
   ]
  },
  {
   "cell_type": "code",
   "execution_count": 5,
   "id": "limited-claim",
   "metadata": {},
   "outputs": [],
   "source": [
    "if(bool_plot==FALSE){\n",
    "    sga <- bitr(a0s$gene_name, fromType = \"SYMBOL\", toType = \"ENTREZID\", OrgDb = org.Mm.eg.db)\n",
    "    ac_g <- enrichGO(sga[,2], 'org.Mm.eg.db', ont = \"BP\", pvalueCutoff = 0.1)\n",
    "    barplot(ac_g, showCategory=25)\n",
    "}"
   ]
  },
  {
   "cell_type": "code",
   "execution_count": 6,
   "id": "billion-situation",
   "metadata": {},
   "outputs": [],
   "source": [
    "gen=c('Nipal4','Nrap','Rdh9','Rrad','Oprk1','Exoc3l2','Hcrtr2','Syt2','Trappc9','Syt4','Cb1','Scn9a','Grin1','Kl',\n",
    "     'Adra1a','Thra','Thrb','Esr1','Rara','Rarb','Rarg','Rxra','Rxrg','Rxrb','Sim1','Omg','Snrpn','Sertad4','Asap2',\n",
    "     'Dok6','Sacs','Abcd2','Phkb','Camk2g','Magel2','Arnt','Cd38','Cckar','Cckbr','Oxtr','Insr','Lepr','Mc4r',\n",
    "     'Glp1r','Gipr','Adra1','Chrnb2','Htr1a','Htr2a','Htr2c','Htr4','Htr7','Adora1','Adora2a','H1r1','H1r2','H1r3',\n",
    "     'Ntrk2','Ntsr2','Ptgfr','Hcrt1','Hcrt2','Oprm1','Oprk1','Oprd1','Chrm1','Chrm2','Chrm3','Chrm4','Chrm5','Drd1',\n",
    "     'Drd2','Drd3','Drd4','Galr1','Galr2','Galr3','Adcyap1','Adcyap2','Adcyap3','Calcr','Npy1r','Npy2r','Npy5r',\n",
    "     'Esr1','Th','Nts','Nmu','Bdnf','Nucb2','Slc17a6','Spx','Gal','Pacap','Glud1','Glud2')"
   ]
  },
  {
   "cell_type": "code",
   "execution_count": 7,
   "id": "alternate-investigator",
   "metadata": {},
   "outputs": [],
   "source": [
    "options(repr.plot.width=15, repr.plot.height=15)"
   ]
  },
  {
   "cell_type": "code",
   "execution_count": 8,
   "id": "amazing-aberdeen",
   "metadata": {},
   "outputs": [],
   "source": [
    "######################################################################################################################\n",
    "if(bool_plot==FALSE){\n",
    "    #pdf(file = \"volcano_all_diet_effect.pdf\", width = 10, height = 10)\n",
    "        a0 <- read.csv('~/Documents/consultation/Tim/snRNA-seq_oxytocin/results/tables/chow_vs_hfd_all.csv', header=TRUE, sep=\"\\t\")\n",
    "        a0 <- a0[complete.cases(a0), ]\n",
    "        a0 <- a0[order(a0$pval),]\n",
    "        a0s <- a0[a0$pval<0.05,]    \n",
    "        a0$pval <-ifelse(a0$pval<0.001,0.001,a0$pval)  \n",
    "\n",
    "        EnhancedVolcano(a0,\n",
    "                        lab = a0$gene,\n",
    "                        pCutoff = 0.05,\n",
    "                        FCcutoff = 10,\n",
    "                        axisLabSize = 30,\n",
    "                        title = NULL,\n",
    "                        subtitle = NULL,\n",
    "                        caption = NULL,\n",
    "                        x = 'log2fc',\n",
    "                        y = 'pval',\n",
    "                        ylim = c(0, 3),\n",
    "                        xlim = c(-4, 4),\n",
    "                        selectLab = a0$gene[1:50],\n",
    "                        labSize = 8,\n",
    "                        col = c(\"grey30\", \"grey30\", \"red2\", \"red2\"),\n",
    "                        legendLabels = c('NS', expression(Log[2]~FC),'adj_P-val>0.05', expression(p-value~and~log[2]~FC)),\n",
    "                        legendLabSize = 25)\n",
    "    #dev.off()     \n",
    "}"
   ]
  },
  {
   "cell_type": "code",
   "execution_count": 9,
   "id": "theoretical-turner",
   "metadata": {},
   "outputs": [],
   "source": [
    "if(bool_plot==FALSE){\n",
    "    sga <- bitr(a0s$gene, fromType = \"SYMBOL\", toType = \"ENTREZID\", OrgDb = org.Mm.eg.db)\n",
    "    ac_g <- enrichGO(sga[,2], 'org.Mm.eg.db', ont = \"BP\", pvalueCutoff = 0.1)\n",
    "    barplot(ac_g, showCategory=25)\n",
    "}"
   ]
  },
  {
   "cell_type": "markdown",
   "id": "improved-hanging",
   "metadata": {},
   "source": [
    "## UpSet plots"
   ]
  },
  {
   "cell_type": "code",
   "execution_count": 10,
   "id": "brief-actress",
   "metadata": {},
   "outputs": [],
   "source": [
    "obs <- read.csv('~/Documents/consultation/Tim/snRNA-seq_oxytocin/adata_f.obs.csv', header=TRUE, sep=\",\")[,-1]"
   ]
  },
  {
   "cell_type": "code",
   "execution_count": 11,
   "id": "played-friday",
   "metadata": {},
   "outputs": [],
   "source": [
    "options(repr.plot.width=20, repr.plot.height=15)"
   ]
  },
  {
   "cell_type": "code",
   "execution_count": 12,
   "id": "proof-reference",
   "metadata": {},
   "outputs": [],
   "source": [
    "if(bool_plot==FALSE){\n",
    "    library(ComplexUpset)\n",
    "    genres = colnames(obs)[18:28]  \n",
    "\n",
    "\n",
    "    upset(\n",
    "      obs,\n",
    "      genres,\n",
    "      base_annotations=list('Intersection size'=intersection_size(counts=T, mapping=aes(fill=condition))),\n",
    "      themes=upset_default_themes(text=element_text(size=25)),\n",
    "\n",
    "      width_ratio=0.1, min_size=0, keep_empty_groups=F, wrap=TRUE, max_size=250\n",
    "    )\n",
    "}"
   ]
  },
  {
   "cell_type": "code",
   "execution_count": 13,
   "id": "elegant-plaintiff",
   "metadata": {},
   "outputs": [],
   "source": [
    "if(bool_plot==FALSE){\n",
    "    library(ComplexUpset)\n",
    "    obs_c=obs[obs$condition=='CHOW',]\n",
    "    obs_h=obs[obs$condition=='HFD',]\n",
    "\n",
    "    genres = colnames(obs)[18:28]  \n",
    "    #upset(obs, genres,\n",
    "    #      base_annotations=list('Intersection size'=upset_annotate(counts=T, mapping=aes(fill=condition))),\n",
    "    #      themes=upset_default_themes(text=element_text(size=25)),\n",
    "    #  \n",
    "    #  width_ratio=0.1, min_size=0, keep_empty_groups=F, wrap=TRUE, max_size=250\n",
    "    #)\n",
    "\n",
    "    upset(\n",
    "        obs_c, genres,\n",
    "        base_annotations=list(\n",
    "            'Intersection size'=upset_annotate(\n",
    "                '..count..',\n",
    "                list(\n",
    "                    geom_bar(\n",
    "                        aes(fill='condition'),\n",
    "                        width=0.2,\n",
    "                        position=position_nudge(x=-0.2)\n",
    "                    ),\n",
    "                    geom_bar(\n",
    "                        data=obs_h,\n",
    "                        aes(fill='condition'),\n",
    "                        width=0.2,\n",
    "                        position=position_nudge(x=+0.2)\n",
    "                    )\n",
    "                )\n",
    "            )\n",
    "        ), width_ratio=0.1, min_size=0, keep_empty_groups=F, wrap=TRUE, max_size=250\n",
    "    )\n",
    "}"
   ]
  },
  {
   "cell_type": "markdown",
   "id": "banner-scenario",
   "metadata": {},
   "source": [
    "### Clusters overlaps\n",
    "#### Chow"
   ]
  },
  {
   "cell_type": "code",
   "execution_count": 14,
   "id": "prime-senegal",
   "metadata": {},
   "outputs": [],
   "source": [
    "if(bool_plot==FALSE){\n",
    "    upset(fromList(list(cluster_1=obs[(obs[,'clust_1']==1) & (obs[,'condition']=='CHOW'),1],\n",
    "                        cluster_2=obs[(obs[,'clust_2']==1) & (obs[,'condition']=='CHOW'),1],\n",
    "                        cluster_3=obs[(obs[,'clust_3']==1) & (obs[,'condition']=='CHOW'),1], \n",
    "                        cluster_4=obs[(obs[,'clust_4']==1) & (obs[,'condition']=='CHOW'),1],\n",
    "                        cluster_5=obs[(obs[,'clust_5']==1) & (obs[,'condition']=='CHOW'),1])),\n",
    "          order.by=\"freq\",\n",
    "          nintersects=200,\n",
    "          point.size=3,\n",
    "          text.scale=3.1,\n",
    "          mainbar.y.max=135\n",
    "    )\n",
    "}"
   ]
  },
  {
   "cell_type": "markdown",
   "id": "celtic-professional",
   "metadata": {},
   "source": [
    "#### HFD"
   ]
  },
  {
   "cell_type": "code",
   "execution_count": 15,
   "id": "ready-seller",
   "metadata": {},
   "outputs": [],
   "source": [
    "if(bool_plot==FALSE){\n",
    "    upset(fromList(list(cluster_1=obs[(obs[,'clust_1']==1) & (obs[,'condition']=='HFD'),1],\n",
    "                        cluster_2=obs[(obs[,'clust_2']==1) & (obs[,'condition']=='HFD'),1],\n",
    "                        cluster_3=obs[(obs[,'clust_3']==1) & (obs[,'condition']=='HFD'),1], \n",
    "                        cluster_4=obs[(obs[,'clust_4']==1) & (obs[,'condition']=='HFD'),1],\n",
    "                        cluster_5=obs[(obs[,'clust_5']==1) & (obs[,'condition']=='HFD'),1])),\n",
    "          order.by=\"freq\",\n",
    "          nintersects=200,\n",
    "          point.size=3,\n",
    "          text.scale=3,\n",
    "          mainbar.y.max=135\n",
    "    )\n",
    "}"
   ]
  },
  {
   "cell_type": "markdown",
   "id": "central-disclaimer",
   "metadata": {},
   "source": [
    "### Cckar and hormone receptors\n",
    "#### Chow"
   ]
  },
  {
   "cell_type": "code",
   "execution_count": 16,
   "id": "fantastic-permit",
   "metadata": {},
   "outputs": [],
   "source": [
    "if(bool_plot==FALSE){\n",
    "    upset(fromList(list(Cckar_Lepr=obs[(obs[,'cckar_lepr']==1) & (obs[,'condition']=='CHOW'),1],\n",
    "                        Cckar_Insr=obs[(obs[,'cckar_insr']==1) & (obs[,'condition']=='CHOW'),1],\n",
    "                        Cckar_Glp1r=obs[(obs[,'cckar_glp1r']==1) & (obs[,'condition']=='CHOW'),1], \n",
    "                        Cckar_Chrnb2=obs[(obs[,'cckar_chrnb2']==1) & (obs[,'condition']=='CHOW'),1],\n",
    "                        Cckar_Adora1=obs[(obs[,'cckar_adora1']==1) & (obs[,'condition']=='CHOW'),1],\n",
    "                        Cckar_Ntrk2=obs[(obs[,'cckar_ntrk2']==1) & (obs[,'condition']=='CHOW'),1],\n",
    "                        Cckar_Ntsr2=obs[(obs[,'cckar_ntsr2']==1) & (obs[,'condition']=='CHOW'),1],\n",
    "                        Cckar_Oprk1=obs[(obs[,'cckar_oprk1']==1) & (obs[,'condition']=='CHOW'),1], \n",
    "                        Cckar_Chrm2=obs[(obs[,'cckar_chrm2']==1) & (obs[,'condition']=='CHOW'),1],\n",
    "                        Cckar_Adcyap1=obs[(obs[,'cckar_adcyap1']==1) & (obs[,'condition']=='CHOW'),1],\n",
    "                        Cckar_Esr1=obs[(obs[,'cckar_esr1']==1) & (obs[,'condition']=='CHOW'),1]\n",
    "                         )),\n",
    "          order.by=\"freq\",\n",
    "          nsets=15,\n",
    "          nintersects=200,\n",
    "          point.size=3,\n",
    "          text.scale=3,\n",
    "          mainbar.y.max=10 \n",
    "    )\n",
    "}"
   ]
  },
  {
   "cell_type": "markdown",
   "id": "listed-andrews",
   "metadata": {},
   "source": [
    "#### HFD"
   ]
  },
  {
   "cell_type": "code",
   "execution_count": 17,
   "id": "secure-fruit",
   "metadata": {},
   "outputs": [],
   "source": [
    "if(bool_plot==FALSE){\n",
    "    upset(fromList(list(Cckar_Lepr=obs[(obs[,'cckar_lepr']==1) & (obs[,'condition']=='HFD'),1],\n",
    "                        Cckar_Insr=obs[(obs[,'cckar_insr']==1) & (obs[,'condition']=='HFD'),1],\n",
    "                        Cckar_Glp1r=obs[(obs[,'cckar_glp1r']==1) & (obs[,'condition']=='HFD'),1], \n",
    "                        Cckar_Chrnb2=obs[(obs[,'cckar_chrnb2']==1) & (obs[,'condition']=='HFD'),1],\n",
    "                        Cckar_Adora1=obs[(obs[,'cckar_adora1']==1) & (obs[,'condition']=='HFD'),1],\n",
    "                        Cckar_Ntrk2=obs[(obs[,'cckar_ntrk2']==1) & (obs[,'condition']=='HFD'),1],\n",
    "                        Cckar_Ntsr2=obs[(obs[,'cckar_ntsr2']==1) & (obs[,'condition']=='HFD'),1],\n",
    "                        Cckar_Oprk1=obs[(obs[,'cckar_oprk1']==1) & (obs[,'condition']=='HFD'),1], \n",
    "                        Cckar_Chrm2=obs[(obs[,'cckar_chrm2']==1) & (obs[,'condition']=='HFD'),1],\n",
    "                        Cckar_Adcyap1=obs[(obs[,'cckar_adcyap1']==1) & (obs[,'condition']=='HFD'),1],\n",
    "                        Cckar_Esr1=obs[(obs[,'cckar_esr1']==1) & (obs[,'condition']=='HFD'),1]\n",
    "                         )),\n",
    "          order.by=\"freq\",\n",
    "          nsets=15,\n",
    "          nintersects=200,\n",
    "          point.size=3,\n",
    "          text.scale=3,\n",
    "          mainbar.y.max=10 \n",
    "    )\n",
    "}"
   ]
  },
  {
   "cell_type": "markdown",
   "id": "postal-scroll",
   "metadata": {},
   "source": [
    "### Cckar and co-transmiter"
   ]
  },
  {
   "cell_type": "code",
   "execution_count": 18,
   "id": "separate-causing",
   "metadata": {},
   "outputs": [],
   "source": [
    "if(bool_plot==FALSE){\n",
    "    upset(fromList(list(Ckar_Nucb2=obs[(obs[,'cckar_nucb2']==1) & (obs[,'condition']=='CHOW'),1],\n",
    "                        Cckar_Th=obs[(obs[,'cckar_th']==1) & (obs[,'condition']=='CHOW'),1],\n",
    "                        Cckar_Slc17a6=obs[(obs[,'cckar_slc17a6']==1) & (obs[,'condition']=='CHOW'),1], \n",
    "                        Cckar_Spx=obs[(obs[,'cckar_spx']==1) & (obs[,'condition']=='CHOW'),1],\n",
    "                        Cckar_Gal=obs[(obs[,'cckar_gal']==1) & (obs[,'condition']=='CHOW'),1],\n",
    "                        Cckar_Glud1=obs[(obs[,'cckar_glud1']==1) & (obs[,'condition']=='CHOW'),1])),\n",
    "          order.by=\"freq\", \n",
    "          nsets=10,\n",
    "          nintersects=200,\n",
    "          point.size=3,\n",
    "          text.scale=2.5,\n",
    "          mainbar.y.max=10\n",
    "    )\n",
    "}"
   ]
  },
  {
   "cell_type": "markdown",
   "id": "separated-bride",
   "metadata": {},
   "source": [
    "#### HFD"
   ]
  },
  {
   "cell_type": "code",
   "execution_count": 19,
   "id": "understanding-nickel",
   "metadata": {},
   "outputs": [],
   "source": [
    "if(bool_plot==FALSE){\n",
    "    upset(fromList(list(Ckar_Nucb2=obs[(obs[,'cckar_nucb2']==1) & (obs[,'condition']=='HFD'),1],\n",
    "                        Cckar_Th=obs[(obs[,'cckar_th']==1) & (obs[,'condition']=='HFD'),1],\n",
    "                        Cckar_Slc17a6=obs[(obs[,'cckar_slc17a6']==1) & (obs[,'condition']=='HFD'),1], \n",
    "                        Cckar_Spx=obs[(obs[,'cckar_spx']==1) & (obs[,'condition']=='HFD'),1],\n",
    "                        Cckar_Gal=obs[(obs[,'cckar_gal']==1) & (obs[,'condition']=='HFD'),1],\n",
    "                        Cckar_Glud1=obs[(obs[,'cckar_glud1']==1) & (obs[,'condition']=='HFD'),1])),\n",
    "          order.by=\"freq\", \n",
    "          nsets=10,\n",
    "          nintersects=200,\n",
    "          point.size=3,\n",
    "          text.scale=2.5,\n",
    "          mainbar.y.max=10\n",
    "    )\n",
    "}"
   ]
  },
  {
   "cell_type": "markdown",
   "id": "automotive-circulation",
   "metadata": {},
   "source": [
    "\n",
    "### Cckar and Prader-Willi Syndrome/Exocytosis"
   ]
  },
  {
   "cell_type": "code",
   "execution_count": 20,
   "id": "prescribed-daughter",
   "metadata": {},
   "outputs": [],
   "source": [
    "if(bool_plot==FALSE){\n",
    "    upset(fromList(list(cckar_trappc9=obs[(obs[,'cckar_trappc9']==1) & (obs[,'condition']=='CHOW'),1],\n",
    "                        cckar_sim1=obs[(obs[,'cckar_sim1']==1) & (obs[,'condition']=='CHOW'),1],\n",
    "                        cckar_syt4=obs[(obs[,'cckar_syt4']==1) & (obs[,'condition']=='CHOW'),1], \n",
    "                        cckar_omg=obs[(obs[,'cckar_omg']==1) & (obs[,'condition']=='CHOW'),1],\n",
    "                        cckar_snrpn=obs[(obs[,'cckar_snrpn']==1) & (obs[,'condition']=='CHOW'),1],\n",
    "                        cckar_sertad4=obs[(obs[,'cckar_sertad4']==1) & (obs[,'condition']=='CHOW'),1],\n",
    "                        cckar_asap2=obs[(obs[,'cckar_asap2']==1) & (obs[,'condition']=='CHOW'),1],\n",
    "                        cckar_dok6=obs[(obs[,'cckar_dok6']==1) & (obs[,'condition']=='CHOW'),1],\n",
    "                        cckar_sacs=obs[(obs[,'cckar_sacs']==1) & (obs[,'condition']=='CHOW'),1], \n",
    "                        cckar_abcd2=obs[(obs[,'cckar_abcd2']==1) & (obs[,'condition']=='CHOW'),1],\n",
    "                        cckar_phkb=obs[(obs[,'cckar_phkb']==1) & (obs[,'condition']=='CHOW'),1],\n",
    "                        cckar_camk2g=obs[(obs[,'cckar_camk2g']==1) & (obs[,'condition']=='CHOW'),1],                   \n",
    "                        cckar_magel2=obs[(obs[,'cckar_magel2']==1) & (obs[,'condition']=='CHOW'),1],\n",
    "                        cckar_arnt=obs[(obs[,'cckar_arnt']==1) & (obs[,'condition']=='CHOW'),1],\n",
    "                        cckar_otp=obs[(obs[,'cckar_otp']==1) & (obs[,'condition']=='CHOW'),1], \n",
    "                        cckar_pou3f2=obs[(obs[,'cckar_pou3f2']==1) & (obs[,'condition']=='CHOW'),1],\n",
    "                        cckar_nr2c2=obs[(obs[,'cckar_nr2c2']==1) & (obs[,'condition']=='CHOW'),1],\n",
    "                        cckar_fto=obs[(obs[,'cckar_fto']==1) & (obs[,'condition']=='CHOW'),1])),\n",
    "          order.by=\"freq\", \n",
    "          nsets=20,\n",
    "          nintersects=200,\n",
    "          point.size=3,\n",
    "          text.scale=2.5,\n",
    "          mainbar.y.max=5\n",
    "    )\n",
    "}"
   ]
  },
  {
   "cell_type": "markdown",
   "id": "appreciated-barbados",
   "metadata": {},
   "source": [
    "#### HFD"
   ]
  },
  {
   "cell_type": "code",
   "execution_count": 21,
   "id": "cordless-inclusion",
   "metadata": {},
   "outputs": [],
   "source": [
    "if(bool_plot==FALSE){\n",
    "    upset(fromList(list(cckar_trappc9=obs[(obs[,'cckar_trappc9']==1) & (obs[,'condition']=='HFD'),1],\n",
    "                        cckar_sim1=obs[(obs[,'cckar_sim1']==1) & (obs[,'condition']=='HFD'),1],\n",
    "                        cckar_syt4=obs[(obs[,'cckar_syt4']==1) & (obs[,'condition']=='HFD'),1], \n",
    "                        cckar_omg=obs[(obs[,'cckar_omg']==1) & (obs[,'condition']=='HFD'),1],\n",
    "                        cckar_snrpn=obs[(obs[,'cckar_snrpn']==1) & (obs[,'condition']=='HFD'),1],\n",
    "                        cckar_sertad4=obs[(obs[,'cckar_sertad4']==1) & (obs[,'condition']=='HFD'),1],\n",
    "                        cckar_asap2=obs[(obs[,'cckar_asap2']==1) & (obs[,'condition']=='HFD'),1],\n",
    "                        cckar_dok6=obs[(obs[,'cckar_dok6']==1) & (obs[,'condition']=='HFD'),1],\n",
    "                        cckar_sacs=obs[(obs[,'cckar_sacs']==1) & (obs[,'condition']=='HFD'),1], \n",
    "                        cckar_abcd2=obs[(obs[,'cckar_abcd2']==1) & (obs[,'condition']=='HFD'),1],\n",
    "                        cckar_phkb=obs[(obs[,'cckar_phkb']==1) & (obs[,'condition']=='HFD'),1],\n",
    "                        cckar_camk2g=obs[(obs[,'cckar_camk2g']==1) & (obs[,'condition']=='HFD'),1],                   \n",
    "                        cckar_magel2=obs[(obs[,'cckar_magel2']==1) & (obs[,'condition']=='HFD'),1],\n",
    "                        cckar_arnt=obs[(obs[,'cckar_arnt']==1) & (obs[,'condition']=='HFD'),1],\n",
    "                        cckar_otp=obs[(obs[,'cckar_otp']==1) & (obs[,'condition']=='HFD'),1], \n",
    "                        cckar_pou3f2=obs[(obs[,'cckar_pou3f2']==1) & (obs[,'condition']=='HFD'),1],\n",
    "                        cckar_nr2c2=obs[(obs[,'cckar_nr2c2']==1) & (obs[,'condition']=='HFD'),1],\n",
    "                        cckar_fto=obs[(obs[,'cckar_fto']==1) & (obs[,'condition']=='HFD'),1])),\n",
    "          order.by=\"freq\", \n",
    "          nsets=20,\n",
    "          nintersects=200,\n",
    "          point.size=3,\n",
    "          text.scale=2.5,\n",
    "          mainbar.y.max=5\n",
    "    )\n",
    "}"
   ]
  },
  {
   "cell_type": "markdown",
   "id": "according-profession",
   "metadata": {},
   "source": [
    "### Hormone receptors"
   ]
  },
  {
   "cell_type": "code",
   "execution_count": 22,
   "id": "aquatic-market",
   "metadata": {},
   "outputs": [],
   "source": [
    "######################################################################################################################\n",
    "if(bool_plot==FALSE){\n",
    "    upset(fromList(list(Cckar=obs[(obs[,'cckar']==1) & (obs[,'condition']=='CHOW'),1],\n",
    "                        Lepr=obs[(obs[,'lepr']==1) & (obs[,'condition']=='CHOW'),1],\n",
    "                        #Adcyap1=obs[(obs[,'adcyap1']==1) & (obs[,'condition']=='CHOW'),1],\n",
    "                        Insr=obs[(obs[,'insr']==1) & (obs[,'condition']=='CHOW'),1],\n",
    "                        Glp1r=obs[(obs[,'glp1r']==1) & (obs[,'condition']=='CHOW'),1], \n",
    "                        Chrnb2=obs[(obs[,'chrnb2']==1) & (obs[,'condition']=='CHOW'),1],\n",
    "                        Adora1=obs[(obs[,'adora1']==1) & (obs[,'condition']=='CHOW'),1],\n",
    "                        Ntrk2=obs[(obs[,'ntrk2']==1) & (obs[,'condition']=='CHOW'),1],\n",
    "                        Ntsr2=obs[(obs[,'ntsr2']==1) & (obs[,'condition']=='CHOW'),1],\n",
    "                        Oprk1=obs[(obs[,'oprk1']==1) & (obs[,'condition']=='CHOW'),1], \n",
    "                        Chrm2=obs[(obs[,'chrm2']==1) & (obs[,'condition']=='CHOW'),1],\n",
    "                        Esr1=obs[(obs[,'esr1']==1) & (obs[,'condition']=='CHOW'),1]\n",
    "                         )),\n",
    "          order.by=\"freq\",\n",
    "          nsets=15,\n",
    "          nintersects=50,\n",
    "          point.size=4,\n",
    "          text.scale=3.8,\n",
    "          line.size=1.7,\n",
    "          mb.ratio=c(.65, .35),\n",
    "          mainbar.y.max=80,\n",
    "          main.bar.color = \"gray70\"\n",
    "    )\n",
    "}"
   ]
  },
  {
   "cell_type": "markdown",
   "id": "approximate-format",
   "metadata": {},
   "source": [
    "#### HFD"
   ]
  },
  {
   "cell_type": "code",
   "execution_count": 23,
   "id": "critical-refund",
   "metadata": {},
   "outputs": [],
   "source": [
    "######################################################################################################################\n",
    "if(bool_plot==FALSE){\n",
    "    upset(fromList(list(Cckar=obs[(obs[,'cckar']==1) & (obs[,'condition']=='HFD'),1],\n",
    "                        Lepr=obs[(obs[,'lepr']==1) & (obs[,'condition']=='HFD'),1],\n",
    "                        Insr=obs[(obs[,'insr']==1) & (obs[,'condition']=='HFD'),1],\n",
    "                        Glp1r=obs[(obs[,'glp1r']==1) & (obs[,'condition']=='HFD'),1], \n",
    "                        Chrnb2=obs[(obs[,'chrnb2']==1) & (obs[,'condition']=='HFD'),1],\n",
    "                        Adora1=obs[(obs[,'adora1']==1) & (obs[,'condition']=='HFD'),1],\n",
    "                        Ntrk2=obs[(obs[,'ntrk2']==1) & (obs[,'condition']=='HFD'),1],\n",
    "                        Ntsr2=obs[(obs[,'ntsr2']==1) & (obs[,'condition']=='HFD'),1],\n",
    "                        Oprk1=obs[(obs[,'oprk1']==1) & (obs[,'condition']=='HFD'),1], \n",
    "                        Chrm2=obs[(obs[,'chrm2']==1) & (obs[,'condition']=='HFD'),1],\n",
    "                        #Adcyap1=obs[(obs[,'adcyap1']==1) & (obs[,'condition']=='HFD'),1],\n",
    "                        Esr1=obs[(obs[,'esr1']==1) & (obs[,'condition']=='HFD'),1]\n",
    "                         )),\n",
    "          order.by=\"freq\",\n",
    "          nsets=15,\n",
    "          nintersects=50,\n",
    "          point.size=4,\n",
    "          text.scale=3.8,\n",
    "          line.size=1.7,\n",
    "          mb.ratio=c(.65, .35),\n",
    "          mainbar.y.max=80,\n",
    "          main.bar.color = \"red\" \n",
    "    )\n",
    "}"
   ]
  },
  {
   "cell_type": "markdown",
   "id": "executive-holmes",
   "metadata": {},
   "source": [
    "### Co-transmiter"
   ]
  },
  {
   "cell_type": "code",
   "execution_count": 24,
   "id": "figured-northern",
   "metadata": {},
   "outputs": [],
   "source": [
    "if(bool_plot==FALSE){\n",
    "    upset(fromList(list(Nucb2=obs[(obs[,'nucb2']==1) & (obs[,'condition']=='CHOW'),1],\n",
    "                        Th=obs[(obs[,'th']==1) & (obs[,'condition']=='CHOW'),1],\n",
    "                        Slc17a6=obs[(obs[,'slc17a6']==1) & (obs[,'condition']=='CHOW'),1], \n",
    "                        Spx=obs[(obs[,'spx']==1) & (obs[,'condition']=='CHOW'),1],\n",
    "                        Gal=obs[(obs[,'gal']==1) & (obs[,'condition']=='CHOW'),1],\n",
    "                        Glud1=obs[(obs[,'glud1']==1) & (obs[,'condition']=='CHOW'),1])),\n",
    "          order.by=\"freq\", \n",
    "          nsets=10,\n",
    "          nintersects=200,\n",
    "          point.size=3,\n",
    "          text.scale=2.5,\n",
    "          mainbar.y.max=90\n",
    "    )\n",
    "}"
   ]
  },
  {
   "cell_type": "markdown",
   "id": "welsh-kennedy",
   "metadata": {},
   "source": [
    "#### HFD"
   ]
  },
  {
   "cell_type": "code",
   "execution_count": 25,
   "id": "outer-elimination",
   "metadata": {},
   "outputs": [],
   "source": [
    "if(bool_plot==FALSE){\n",
    "    upset(fromList(list(Nucb2=obs[(obs[,'nucb2']==1) & (obs[,'condition']=='HFD'),1],\n",
    "                        Th=obs[(obs[,'th']==1) & (obs[,'condition']=='HFD'),1],\n",
    "                        Slc17a6=obs[(obs[,'slc17a6']==1) & (obs[,'condition']=='HFD'),1], \n",
    "                        Spx=obs[(obs[,'spx']==1) & (obs[,'condition']=='HFD'),1],\n",
    "                        Gal=obs[(obs[,'gal']==1) & (obs[,'condition']=='HFD'),1],\n",
    "                        Glud1=obs[(obs[,'glud1']==1) & (obs[,'condition']=='HFD'),1])),\n",
    "          order.by=\"freq\", \n",
    "          nsets=10,\n",
    "          nintersects=200,\n",
    "          point.size=3,\n",
    "          text.scale=2.5,\n",
    "          mainbar.y.max=90\n",
    "    )\n",
    "}"
   ]
  },
  {
   "cell_type": "markdown",
   "id": "indonesian-midnight",
   "metadata": {},
   "source": [
    "### Prader-Willi Syndrome/Exocytosis\n",
    "#### Chow"
   ]
  },
  {
   "cell_type": "code",
   "execution_count": 26,
   "id": "wireless-utility",
   "metadata": {},
   "outputs": [],
   "source": [
    "if(bool_plot==FALSE){\n",
    "    upset(fromList(list(Trappc9=obs[(obs[,'trappc9']==1) & (obs[,'condition']=='CHOW'),1],\n",
    "                        Sim1=obs[(obs[,'sim1']==1) & (obs[,'condition']=='CHOW'),1],\n",
    "                        Syt4=obs[(obs[,'syt4']==1) & (obs[,'condition']=='CHOW'),1], \n",
    "                        Omg=obs[(obs[,'omg']==1) & (obs[,'condition']=='CHOW'),1],\n",
    "                        Snrpn=obs[(obs[,'snrpn']==1) & (obs[,'condition']=='CHOW'),1],\n",
    "                        Sertad4=obs[(obs[,'sertad4']==1) & (obs[,'condition']=='CHOW'),1],\n",
    "                        Asap2=obs[(obs[,'asap2']==1) & (obs[,'condition']=='CHOW'),1],\n",
    "                        Dok6=obs[(obs[,'dok6']==1) & (obs[,'condition']=='CHOW'),1],\n",
    "                        Sacs=obs[(obs[,'sacs']==1) & (obs[,'condition']=='CHOW'),1], \n",
    "                        Abcd2=obs[(obs[,'abcd2']==1) & (obs[,'condition']=='CHOW'),1],\n",
    "                        Phkb=obs[(obs[,'phkb']==1) & (obs[,'condition']=='CHOW'),1],\n",
    "                        Camk2g=obs[(obs[,'camk2g']==1) & (obs[,'condition']=='CHOW'),1],                   \n",
    "                        Magel2=obs[(obs[,'magel2']==1) & (obs[,'condition']=='CHOW'),1],\n",
    "                        Arnt=obs[(obs[,'arnt']==1) & (obs[,'condition']=='CHOW'),1],\n",
    "                        Otp=obs[(obs[,'otp']==1) & (obs[,'condition']=='CHOW'),1], \n",
    "                        Pou3f2=obs[(obs[,'pou3f2']==1) & (obs[,'condition']=='CHOW'),1],\n",
    "                        Nr2c2=obs[(obs[,'nr2c2']==1) & (obs[,'condition']=='CHOW'),1],\n",
    "                        Fto=obs[(obs[,'fto']==1) & (obs[,'condition']=='CHOW'),1])),\n",
    "          order.by=\"freq\", \n",
    "          nsets=20,\n",
    "          nintersects=200,\n",
    "          point.size=3,\n",
    "          text.scale=2.5,\n",
    "          mainbar.y.max=8\n",
    "    )\n",
    "}"
   ]
  },
  {
   "cell_type": "markdown",
   "id": "affecting-burton",
   "metadata": {},
   "source": [
    "#### HFD"
   ]
  },
  {
   "cell_type": "code",
   "execution_count": 27,
   "id": "emotional-detective",
   "metadata": {},
   "outputs": [],
   "source": [
    "if(bool_plot==FALSE){\n",
    "    upset(fromList(list(Trappc9=obs[(obs[,'trappc9']==1) & (obs[,'condition']=='HFD'),1],\n",
    "                        Sim1=obs[(obs[,'sim1']==1) & (obs[,'condition']=='HFD'),1],\n",
    "                        Syt4=obs[(obs[,'syt4']==1) & (obs[,'condition']=='HFD'),1], \n",
    "                        Omg=obs[(obs[,'omg']==1) & (obs[,'condition']=='HFD'),1],\n",
    "                        Snrpn=obs[(obs[,'snrpn']==1) & (obs[,'condition']=='HFD'),1],\n",
    "                        Sertad4=obs[(obs[,'sertad4']==1) & (obs[,'condition']=='HFD'),1],\n",
    "                        Asap2=obs[(obs[,'asap2']==1) & (obs[,'condition']=='HFD'),1],\n",
    "                        Dok6=obs[(obs[,'dok6']==1) & (obs[,'condition']=='HFD'),1],\n",
    "                        Sacs=obs[(obs[,'sacs']==1) & (obs[,'condition']=='HFD'),1], \n",
    "                        Abcd2=obs[(obs[,'abcd2']==1) & (obs[,'condition']=='HFD'),1],\n",
    "                        Phkb=obs[(obs[,'phkb']==1) & (obs[,'condition']=='HFD'),1],\n",
    "                        Camk2g=obs[(obs[,'camk2g']==1) & (obs[,'condition']=='HFD'),1],                   \n",
    "                        Magel2=obs[(obs[,'magel2']==1) & (obs[,'condition']=='HFD'),1],\n",
    "                        Arnt=obs[(obs[,'arnt']==1) & (obs[,'condition']=='HFD'),1],\n",
    "                        Otp=obs[(obs[,'otp']==1) & (obs[,'condition']=='HFD'),1], \n",
    "                        Pou3f2=obs[(obs[,'pou3f2']==1) & (obs[,'condition']=='HFD'),1],\n",
    "                        Nr2c2=obs[(obs[,'nr2c2']==1) & (obs[,'condition']=='HFD'),1],\n",
    "                        Fto=obs[(obs[,'fto']==1) & (obs[,'condition']=='HFD'),1])),\n",
    "          order.by=\"freq\", \n",
    "          nsets=20,\n",
    "          nintersects=200,\n",
    "          point.size=3,\n",
    "          text.scale=2.5,\n",
    "          mainbar.y.max=8\n",
    "    )\n",
    "}"
   ]
  },
  {
   "cell_type": "code",
   "execution_count": null,
   "id": "casual-insurance",
   "metadata": {},
   "outputs": [],
   "source": []
  },
  {
   "cell_type": "code",
   "execution_count": null,
   "id": "charitable-tomato",
   "metadata": {},
   "outputs": [],
   "source": []
  }
 ],
 "metadata": {
  "kernelspec": {
   "display_name": "R 4.0.3",
   "language": "R",
   "name": "ir32"
  },
  "language_info": {
   "codemirror_mode": "r",
   "file_extension": ".r",
   "mimetype": "text/x-r-source",
   "name": "R",
   "pygments_lexer": "r",
   "version": "4.0.3"
  }
 },
 "nbformat": 4,
 "nbformat_minor": 5
}
