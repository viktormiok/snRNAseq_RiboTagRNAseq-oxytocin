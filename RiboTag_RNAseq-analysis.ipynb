{
 "cells": [
  {
   "cell_type": "markdown",
   "metadata": {},
   "source": [
    "# Analysis of RiboTag RNA-seq data"
   ]
  },
  {
   "cell_type": "markdown",
   "metadata": {},
   "source": [
    "## Loading packages\n",
    "Required packages for downstream analysis"
   ]
  },
  {
   "cell_type": "code",
   "execution_count": 1,
   "metadata": {},
   "outputs": [
    {
     "name": "stderr",
     "output_type": "stream",
     "text": [
      "Warning message:\n",
      "“package ‘RColorBrewer’ was built under R version 4.0.5”\n",
      "Warning message:\n",
      "“package ‘mgcv’ was built under R version 4.0.5”\n",
      "Warning message:\n",
      "“package ‘nlme’ was built under R version 4.0.5”\n"
     ]
    }
   ],
   "source": [
    "suppressMessages(library('DESeq2'))\n",
    "suppressMessages(library('ggplot2'))\n",
    "suppressMessages(library('pheatmap'))\n",
    "suppressMessages(library('RColorBrewer'))\n",
    "suppressMessages(library('vidger'))\n",
    "suppressMessages(library('EnhancedVolcano'))\n",
    "suppressMessages(library('gplots'))\n",
    "suppressMessages(library('org.Mm.eg.db'))\n",
    "suppressMessages(library('clusterProfiler'))\n",
    "suppressMessages(library('sigaR'))\n",
    "suppressMessages(library('VennDiagram'))\n",
    "suppressMessages(library('sva'))\n",
    "\n",
    "options(repr.matrix.max.rows=600, repr.matrix.max.cols=200)\n",
    "options(repr.plot.width=10, repr.plot.height=10)"
   ]
  },
  {
   "cell_type": "markdown",
   "metadata": {},
   "source": [
    "Set whether to produce plot, set to FALSE for test runs."
   ]
  },
  {
   "cell_type": "code",
   "execution_count": 2,
   "metadata": {},
   "outputs": [],
   "source": [
    "bool_plot = TRUE"
   ]
  },
  {
   "cell_type": "markdown",
   "metadata": {},
   "source": [
    "## Chow data"
   ]
  },
  {
   "cell_type": "markdown",
   "metadata": {},
   "source": [
    "### Load data"
   ]
  },
  {
   "cell_type": "code",
   "execution_count": 3,
   "metadata": {},
   "outputs": [],
   "source": [
    "raw <- read.table(file='counts.24sept2019.tsv', header = T, sep='\\t')\n",
    "dat <- raw[,-c(1,12)]\n",
    "rownames(dat) <- raw[,1]\n",
    "colnames(dat) <- c(\"inputCCK1\",\"inputCCK2\",\"inputCCK3\",\"inputCCK4\",\"inputVeh1\",\"inputVeh2\",\"inputVeh3\",\"inputVeh4\",\n",
    "                   \"IPcckChow1\",\"IPcckChow2\",\"IPcckChow4\",\"IPvehChow1\",\"IPvehChow2\",\"IPvehChow3\",\"IPvehChow4\")"
   ]
  },
  {
   "cell_type": "code",
   "execution_count": 4,
   "metadata": {},
   "outputs": [],
   "source": [
    "id <- colnames(dat)\n",
    "condition <- c(\"Input_CCK\",\"Input_CCK\",\"Input_CCK\",\"Input_CCK\",\"Input_Veh\",\"Input_Veh\",\"Input_Veh\",\"Input_Veh\",\n",
    "               \"IPcckChow\",\"IPcckChow\",\"IPcckChow\",\"IPvehChow\",\"IPvehChow\",\"IPvehChow\",\"IPvehChow\")\n",
    "tissue <- c(rep(\"Input\",8),rep(\"IP\",7))\n",
    "metaData <- data.frame(id, tissue, condition)"
   ]
  },
  {
   "cell_type": "markdown",
   "metadata": {},
   "source": [
    "### Prepocessing and creating DESeq object"
   ]
  },
  {
   "cell_type": "code",
   "execution_count": 5,
   "metadata": {},
   "outputs": [
    {
     "name": "stderr",
     "output_type": "stream",
     "text": [
      "Warning message in DESeqDataSet(se, design = design, ignoreRank):\n",
      "“some variables in design formula are characters, converting to factors”\n"
     ]
    }
   ],
   "source": [
    "dds <- DESeqDataSetFromMatrix(countData = dat,\n",
    "                              colData = metaData,\n",
    "                              design =~ condition\n",
    ")\n",
    "featureData <- data.frame(gene=rownames(dat))\n",
    "mcols(dds) <- DataFrame(mcols(dds), featureData)\n",
    "\n",
    "dds <- estimateSizeFactors(dds)\n",
    "idx <- rowMeans(counts(dds, normalized=TRUE)) >= 10\n",
    "dds <- dds[idx,]\n",
    "vsd <- vst(dds, \n",
    "           fitType=\"local\"\n",
    ")\n",
    "\n",
    "vst.data <- varianceStabilizingTransformation(dds, \n",
    "                                              blind=TRUE, \n",
    "                                              fitType=\"local\"\n",
    ")"
   ]
  },
  {
   "cell_type": "markdown",
   "metadata": {},
   "source": [
    "### Visualisations"
   ]
  },
  {
   "cell_type": "code",
   "execution_count": 6,
   "metadata": {},
   "outputs": [],
   "source": [
    "if(bool_plot==FALSE){ \n",
    "    pcaData <- plotPCA(vsd, intgroup=c(\"condition\"), returnData=TRUE)\n",
    "    percentVar <- round(100 * attr(pcaData, \"percentVar\"))\n",
    "    p2 <- ggplot(pcaData, aes(PC1, PC2, color=condition)) +\n",
    "        geom_point(size=3) +\n",
    "        geom_label(aes(label=colnames(dat))) +\n",
    "        xlab(paste0(\"PC1: \",percentVar[1],\"% variance\")) + \n",
    "        ylab(paste0(\"PC2: \",percentVar[2],\"% variance\")) +\n",
    "        ggtitle(\"PCA Plot - Chow Data (without ipCCK3)\") +\n",
    "        theme(legend.position=\"right\", \n",
    "              legend.text=element_text(size = 10)) + \n",
    "        guides(col=guide_legend(nrow=4))\n",
    "    p2 + ylim(-15,15) + xlim(-40,60)\n",
    "}"
   ]
  },
  {
   "cell_type": "code",
   "execution_count": 7,
   "metadata": {},
   "outputs": [],
   "source": [
    "if(bool_plot==FALSE){ \n",
    "    ### Visualize the sample distances (euclidian distance) in the heatmaps using pheatmap package\n",
    "    sampleDistMatrix <- as.matrix(dist(t(assay(vst.data))))\n",
    "    colors <- colorRampPalette( rev(brewer.pal(9, \"Spectral\")) )(255)\n",
    "\n",
    "    # Data frame with column annotations.\n",
    "    col_ann <- data.frame(condition = colData(dds)$condition)\n",
    "    rownames(col_ann) <- colnames(sampleDistMatrix)\n",
    "\n",
    "    # List with colors for each annotation.\n",
    "    ann_colors <- list(condition = brewer.pal(4, \"Set3\"))\n",
    "    names(ann_colors$condition) <- unique(colData(dds)$condition)\n",
    "\n",
    "    pheatmap(sampleDistMatrix,\n",
    "             clustering_distance_rows=dist(t(assay(vst.data))),\n",
    "             clustering_distance_cols=dist(t(assay(vst.data))),\n",
    "             show_colnames=TRUE,\n",
    "             show_rownames=FALSE,\n",
    "             annotation=col_ann,\n",
    "             annotation_colors=ann_colors,\n",
    "             col=colors\n",
    "    )\n",
    "}"
   ]
  },
  {
   "cell_type": "code",
   "execution_count": 8,
   "metadata": {},
   "outputs": [],
   "source": [
    "if(bool_plot==FALSE){ \n",
    "    # Density plot of the samples from different locations\n",
    "    p <-assay(vst.data)\n",
    "    #Sample data\n",
    "    l <- as.numeric(p[,1:8])\n",
    "    k <- as.numeric(p[,9:15])\n",
    "    datt <- data.frame(dens = c(l, k), \n",
    "    lines = c(rep(\"Input\",length(l)), rep(\"IP\",length(k))))\n",
    "    #Plot.\n",
    "    ggplot(datt, aes(x = dens, fill = lines)) + geom_density(alpha = 0.5)\n",
    "}"
   ]
  },
  {
   "cell_type": "markdown",
   "metadata": {},
   "source": [
    "### Differential gene expression analysis"
   ]
  },
  {
   "cell_type": "code",
   "execution_count": 9,
   "metadata": {},
   "outputs": [
    {
     "name": "stderr",
     "output_type": "stream",
     "text": [
      "using pre-existing size factors\n",
      "\n",
      "estimating dispersions\n",
      "\n",
      "gene-wise dispersion estimates\n",
      "\n",
      "mean-dispersion relationship\n",
      "\n",
      "final dispersion estimates\n",
      "\n",
      "fitting model and testing\n",
      "\n"
     ]
    }
   ],
   "source": [
    "dds <- DESeq(dds, \n",
    "             fit='local'\n",
    ")"
   ]
  },
  {
   "cell_type": "code",
   "execution_count": 10,
   "metadata": {},
   "outputs": [
    {
     "data": {
      "text/plain": [
       "\n",
       "FALSE  TRUE \n",
       "16950     3 "
      ]
     },
     "metadata": {},
     "output_type": "display_data"
    }
   ],
   "source": [
    "res_Input <- results(dds, \n",
    "                     contrast=c(\"condition\",\"Input_CCK\",\"Input_Veh\")\n",
    ")\n",
    "table(res_Input$padj < 0.05)\n",
    "res = res_Input[order(res_Input$padj),]"
   ]
  },
  {
   "cell_type": "code",
   "execution_count": 11,
   "metadata": {},
   "outputs": [],
   "source": [
    "results1 = as.data.frame(dplyr::mutate(as.data.frame(res), \n",
    "                                       sig=ifelse(res$padj<0.05, \"FDR<0.05\", \"Not Sig\")),\n",
    "                         row.names=rownames(res)\n",
    ")\n",
    "results1 = results1[(!is.na(results1$pvalue)),]"
   ]
  },
  {
   "cell_type": "code",
   "execution_count": 12,
   "metadata": {},
   "outputs": [],
   "source": [
    "# save the results\n",
    "setwd('/Users/viktorian.miok/Documents/consultation/Tim/Oxytocin_data/results')\n",
    "write.csv(as.data.frame(results1), file=\"DifferentialExpressionAnalysis_InputCCK_vs_InputVeh.csv\")"
   ]
  },
  {
   "cell_type": "code",
   "execution_count": 13,
   "metadata": {},
   "outputs": [],
   "source": [
    "if(bool_plot==FALSE){ \n",
    "    p <- ggplot2::ggplot(results1, ggplot2::aes(log2FoldChange, -log10(pvalue))) +\n",
    "         ggplot2::geom_point(ggplot2::aes(col=sig)) + \n",
    "         ggplot2::scale_color_manual(values=c(\"red\", \"black\")) + guides(col = guide_legend(nrow=2)) + \n",
    "         ggplot2::ggtitle(\"Input_CCK_vs_Input_Veh\")+xlim(-5,5)\n",
    "\n",
    "    p + ggrepel::geom_text_repel(data=results1[1:3, ], ggplot2::aes(label=rownames(results1[1:3, ])))\n",
    "}"
   ]
  },
  {
   "cell_type": "code",
   "execution_count": 14,
   "metadata": {},
   "outputs": [
    {
     "data": {
      "text/plain": [
       "\n",
       "FALSE  TRUE \n",
       "16795   158 "
      ]
     },
     "metadata": {},
     "output_type": "display_data"
    }
   ],
   "source": [
    "res_IP <- results(dds, \n",
    "                  contrast=c(\"condition\",\"IPcckChow\",\"IPvehChow\")\n",
    ")\n",
    "table(res_IP$padj < 0.05)\n",
    "res = res_IP[order(res_IP$padj),]"
   ]
  },
  {
   "cell_type": "code",
   "execution_count": 15,
   "metadata": {},
   "outputs": [],
   "source": [
    "results2 = as.data.frame(dplyr::mutate(as.data.frame(res),\n",
    "                                       sig=ifelse(res$padj<0.05, \"FDR<0.05\", \"Not Sig\")),\n",
    "                        row.names=rownames(res)\n",
    ")\n",
    "results2 = results2[(!is.na(results2$pvalue)),]"
   ]
  },
  {
   "cell_type": "code",
   "execution_count": 16,
   "metadata": {},
   "outputs": [],
   "source": [
    "write.csv(as.data.frame(results2), file=\"DifferentialExpressionAnalysis_IPcck_vs_IPveh.csv\")"
   ]
  },
  {
   "cell_type": "code",
   "execution_count": 17,
   "metadata": {},
   "outputs": [],
   "source": [
    "if(bool_plot==FALSE){ \n",
    "    p <-  ggplot2::ggplot(results2, ggplot2::aes(log2FoldChange, -log10(padj))) +\n",
    "          ggplot2::geom_point(ggplot2::aes(col=results2$sig)) + \n",
    "          ggplot2::scale_color_manual(values=c(\"red\", \"black\")) + guides(col = guide_legend(nrow=2)) + \n",
    "          ggplot2::ggtitle(\"IPcckChow_vs_IPvehChow\")\n",
    "\n",
    "    p + ggrepel::geom_text_repel(data=results2[1:20,], ggplot2::aes(label=rownames(results2[1:20,])))\n",
    "}"
   ]
  },
  {
   "cell_type": "code",
   "execution_count": 18,
   "metadata": {},
   "outputs": [],
   "source": [
    "dist.pear <- function(x) as.dist(1-cor(t(x)))\n",
    "hclust.ave <- function(x) hclust(x, method=\"average\")"
   ]
  },
  {
   "cell_type": "code",
   "execution_count": 19,
   "metadata": {},
   "outputs": [],
   "source": [
    "if(bool_plot==FALSE){ \n",
    "    p = assay(vst.data)\n",
    "    sigChow <- rownames(res[which(res$padj < 0.05),])\n",
    "    diet = p[rownames(p)%in%sigChow,]\n",
    "    ord <- heatmap.2(diet[,9:15],\n",
    "                     col=colors,\n",
    "                     scale=\"row\",\n",
    "                     trace=\"none\",\n",
    "                     main=\"Signif. Gen: IPcckChow_vs_IPvehChow\",\n",
    "                     Rowv=TRUE,\n",
    "                     Colv=FALSE,\n",
    "                     cexCol=2,\n",
    "                     margins=c(15, 33),\n",
    "                     keysize=1,\n",
    "                     distfun=dist.pear,\n",
    "                     hclustfun=hclust.ave\n",
    "    )\n",
    "}"
   ]
  },
  {
   "cell_type": "code",
   "execution_count": 20,
   "metadata": {},
   "outputs": [],
   "source": [
    "resIP1 <- res_IP[which(res_IP[,6]<0.05),]"
   ]
  },
  {
   "cell_type": "code",
   "execution_count": 21,
   "metadata": {},
   "outputs": [
    {
     "name": "stderr",
     "output_type": "stream",
     "text": [
      "'select()' returned 1:1 mapping between keys and columns\n",
      "\n",
      "Warning message in bitr(rownames(resIP1), fromType = \"SYMBOL\", toType = \"ENTREZID\", :\n",
      "“17.09% of input gene IDs are fail to map...”\n"
     ]
    }
   ],
   "source": [
    "sig.gene <- bitr(rownames(resIP1), \n",
    "                 fromType=\"SYMBOL\",\n",
    "                 toType=\"ENTREZID\",\n",
    "                 OrgDb=org.Mm.eg.db\n",
    ")\n",
    "ego1 <- enrichGO(gene=sig.gene[,2], \n",
    "                 OrgDb=org.Mm.eg.db,\n",
    "                 ont=\"BP\", \n",
    "                 pAdjustMethod=\"BH\",\n",
    "                 pvalueCutoff=0.5, \n",
    "                 readable=TRUE\n",
    ")"
   ]
  },
  {
   "cell_type": "code",
   "execution_count": 22,
   "metadata": {},
   "outputs": [],
   "source": [
    "df_total <- ego1@result[1:20,]"
   ]
  },
  {
   "cell_type": "code",
   "execution_count": 23,
   "metadata": {},
   "outputs": [],
   "source": [
    "options(repr.plot.width=20, repr.plot.height=16)"
   ]
  },
  {
   "cell_type": "code",
   "execution_count": 24,
   "metadata": {},
   "outputs": [],
   "source": [
    "if(bool_plot==FALSE){\n",
    "    ggplot(df_total, aes(Description, Count)) +\n",
    "           geom_bar(stat = \"identity\", aes(fill = pvalue), position = position_stack(reverse = TRUE)) +\n",
    "           coord_flip() + \n",
    "           scale_color_gradient(low=\"red\", high=\"yellow\") +\n",
    "           theme(axis.title=element_text(size=20,face=\"bold\"),\n",
    "                 axis.text = element_text(size = 25),\n",
    "                 title=element_text(size=20,face=\"bold\"),\n",
    "                 legend.text=element_text(size=20)) + \n",
    "           ylab(\"Nr. of Genes in Pathway\") + \n",
    "           xlab(\"Pathway Names\") +\n",
    "           ggtitle(\"GO Significant Pathways\")\n",
    "}"
   ]
  },
  {
   "cell_type": "markdown",
   "metadata": {},
   "source": [
    "## HFD data"
   ]
  },
  {
   "cell_type": "markdown",
   "metadata": {},
   "source": [
    "### Load data"
   ]
  },
  {
   "cell_type": "code",
   "execution_count": 25,
   "metadata": {},
   "outputs": [],
   "source": [
    "setwd('/Users/viktorian.miok/Documents/consultation/Tim/Oxytocin_data')\n",
    "raw_hfd <- read.table(file='counts.feb2020.tsv', header = T, sep='\\t')\n",
    "MUC14082 <- read.table(file='MUC14082.counts', header = F, sep='\\t')\n",
    "setwd('/Users/viktorian.miok/Documents/consultation/Tim/Oxytocin_data/results')"
   ]
  },
  {
   "cell_type": "code",
   "execution_count": 26,
   "metadata": {},
   "outputs": [],
   "source": [
    "raw_hfd <- cbind(raw_hfd,MUC14082)\n",
    "rownames(raw_hfd) <- raw_hfd[,1]\n",
    "raw_hfd <- raw_hfd[,c(2,14,3:12)]"
   ]
  },
  {
   "cell_type": "code",
   "execution_count": 27,
   "metadata": {},
   "outputs": [],
   "source": [
    "id <- colnames(raw_hfd) <- c(\"IPvehHfd1\",\"IPvehHfd2\",\"IPvehHfd3\",\"IPvehHfd4\",\n",
    "                             \"IPcckHfd1\",\"IPcckHfd2\",\"IPcckHfd3\",\"IPcckHfd4\",\n",
    "                             \"IPgluc1\",\"IPgluc2\",\"IPgluc3\",\"IPgluc4\")\n",
    "\n",
    "condition <- c(\"IPvehHfd\",\"IPvehHfd\",\"IPvehHfd\",\"IPvehHfd\",\n",
    "               \"IPcckHfd\",\"IPcckHfd\",\"IPcckHfd\",\"IPcckHfd\",\n",
    "               \"IPgluc\",\"IPgluc\",\"IPgluc\",\"IPgluc\")\n",
    "metaData <- data.frame(id, condition)"
   ]
  },
  {
   "cell_type": "markdown",
   "metadata": {},
   "source": [
    "### Prepocessing and creating DESeq object"
   ]
  },
  {
   "cell_type": "code",
   "execution_count": 28,
   "metadata": {},
   "outputs": [
    {
     "name": "stderr",
     "output_type": "stream",
     "text": [
      "Warning message in DESeqDataSet(se, design = design, ignoreRank):\n",
      "“some variables in design formula are characters, converting to factors”\n"
     ]
    }
   ],
   "source": [
    "dds <- DESeqDataSetFromMatrix(countData=raw_hfd,\n",
    "                              colData=metaData, \n",
    "                              design =~ condition\n",
    ")\n",
    "featureData <- data.frame(gene=rownames(dat))\n",
    "mcols(dds) <- DataFrame(mcols(dds), featureData)\n",
    "\n",
    "dds <- estimateSizeFactors(dds)\n",
    "idx <- rowMeans(counts(dds, normalized=TRUE)) >= 10\n",
    "dds <- dds[idx,]\n",
    "vsd <- vst(dds, \n",
    "           fitType=\"local\"\n",
    ")\n",
    "\n",
    "vst.data <- varianceStabilizingTransformation(dds, \n",
    "                                              blind=TRUE, \n",
    "                                              fitType=\"local\"\n",
    ")"
   ]
  },
  {
   "cell_type": "markdown",
   "metadata": {},
   "source": [
    "### Visualisations"
   ]
  },
  {
   "cell_type": "code",
   "execution_count": 29,
   "metadata": {},
   "outputs": [],
   "source": [
    "if(bool_plot==FALSE){\n",
    "    pcaData <- plotPCA(vsd, intgroup=c(\"condition\"), returnData=TRUE)\n",
    "    percentVar <- round(100 * attr(pcaData, \"percentVar\"))\n",
    "    p2 <- ggplot(pcaData, aes(PC1, PC2, color = condition)) +\n",
    "                geom_point(size=3)+\n",
    "                geom_label(aes(label = colnames(raw_hfd))) +\n",
    "                xlab(paste0(\"PC1: \",percentVar[1],\"% variance\")) + \n",
    "                ylab(paste0(\"PC2: \",percentVar[2],\"% variance\")) +\n",
    "                ggtitle(\"PCA Plot - All Samples HFD data\") +\n",
    "                theme(legend.position = \"right\", legend.text = element_text(size = 10)) + \n",
    "                guides(col = guide_legend(nrow=4))\n",
    "    p2 + xlim(-15,25) \n",
    "}"
   ]
  },
  {
   "cell_type": "code",
   "execution_count": 30,
   "metadata": {},
   "outputs": [],
   "source": [
    "if(bool_plot==FALSE){\n",
    "    ### Visualize the sample distances (euclidian distance) in the heatmaps using pheatmap package\n",
    "    sampleDistMatrix <- as.matrix(dist(t(assay(vst.data))))\n",
    "    colors <- colorRampPalette( rev(brewer.pal(9, \"Spectral\")) )(255)\n",
    "\n",
    "    # Data frame with column annotations.\n",
    "    col_ann <- data.frame(condition = colData(dds)$condition)\n",
    "    rownames(col_ann) <- colnames(sampleDistMatrix)\n",
    "\n",
    "    # List with colors for each annotation.\n",
    "    ann_colors <- list(condition = brewer.pal(3, \"Set3\"))\n",
    "    names(ann_colors$condition) <- unique(colData(dds)$condition)\n",
    "\n",
    "    pheatmap(sampleDistMatrix,\n",
    "             clustering_distance_rows=dist(t(assay(vst.data))),\n",
    "             clustering_distance_cols=dist(t(assay(vst.data))),\n",
    "             show_colnames=TRUE,\n",
    "             show_rownames=FALSE,\n",
    "             annotation=col_ann,\n",
    "             annotation_colors=ann_colors,\n",
    "             col=colors\n",
    "    )\n",
    "}"
   ]
  },
  {
   "cell_type": "code",
   "execution_count": 31,
   "metadata": {},
   "outputs": [
    {
     "name": "stderr",
     "output_type": "stream",
     "text": [
      "using pre-existing size factors\n",
      "\n",
      "estimating dispersions\n",
      "\n",
      "gene-wise dispersion estimates\n",
      "\n",
      "mean-dispersion relationship\n",
      "\n",
      "final dispersion estimates\n",
      "\n",
      "fitting model and testing\n",
      "\n"
     ]
    }
   ],
   "source": [
    "dds <- DESeq(dds, \n",
    "             fit='local'\n",
    ")"
   ]
  },
  {
   "cell_type": "code",
   "execution_count": 32,
   "metadata": {},
   "outputs": [
    {
     "data": {
      "text/plain": [
       "\n",
       "FALSE  TRUE \n",
       "15554     4 "
      ]
     },
     "metadata": {},
     "output_type": "display_data"
    }
   ],
   "source": [
    "hdfcom <- results(dds, contrast = c(\"condition\",\"IPcckHfd\",\"IPvehHfd\"))\n",
    "table(hdfcom$padj < 0.05)\n",
    "res = hdfcom[order(hdfcom$padj),]"
   ]
  },
  {
   "cell_type": "code",
   "execution_count": 33,
   "metadata": {},
   "outputs": [],
   "source": [
    "results3 = as.data.frame(dplyr::mutate(as.data.frame(res), \n",
    "                                       sig=ifelse(res$padj<0.05, \"FDR<0.05\", \"Not Sig\")),\n",
    "                         row.names=rownames(res)\n",
    ")\n",
    "results3 = results3[(!is.na(results3$pvalue)),]"
   ]
  },
  {
   "cell_type": "code",
   "execution_count": 34,
   "metadata": {},
   "outputs": [],
   "source": [
    "write.csv(as.data.frame(results3), file=\"DifferentialExpressionAnalysis_IPcckHfd_vs_IPvehHfd.csv\")"
   ]
  },
  {
   "cell_type": "code",
   "execution_count": 35,
   "metadata": {
    "scrolled": false
   },
   "outputs": [],
   "source": [
    "if(bool_plot==FALSE){\n",
    "    p = ggplot2::ggplot(results3, ggplot2::aes(log2FoldChange, -log10(padj))) +\n",
    "        ggplot2::geom_point(ggplot2::aes(col=sig)) + \n",
    "        ggplot2::scale_color_manual(values=c(\"red\", \"black\")) +\n",
    "        guides(col=guide_legend(nrow=2)) +\n",
    "        ggplot2::ggtitle(\"IPcckHfd_vs_IPvehHfd\") + \n",
    "        xlim(-5,5)\n",
    "\n",
    "    p + ggrepel::geom_text_repel(data=results3[1:5,], ggplot2::aes(label=rownames(results3[1:5,])))\n",
    "}"
   ]
  },
  {
   "cell_type": "code",
   "execution_count": 36,
   "metadata": {},
   "outputs": [],
   "source": [
    "IPvehChow_vs_IPvehChow = rownames(results2[which(results2$sig == \"FDR<0.05\"),]) \n",
    "IPcckHfd_vs_IPvehHfd = rownames(results3[which(results3$sig == \"FDR<0.05\"),])  "
   ]
  },
  {
   "cell_type": "code",
   "execution_count": 37,
   "metadata": {},
   "outputs": [],
   "source": [
    "if(bool_plot==FALSE){\n",
    "    vp <- venn.diagram(list(IPvehChow_vs_IPvehChow=IPvehChow_vs_IPvehChow, \n",
    "                            IPcckHfd_vs_IPvehHfd=IPcckHfd_vs_IPvehHfd),\n",
    "                       fill=c(\"red\", \"olivedrab3\"),\n",
    "                       filename=NULL,\n",
    "                       cex=1.5, \n",
    "                       col=\"transparent\",\n",
    "                       cat.cex=1.3,\n",
    "                       margin=0.25,\n",
    "                       main.cex=2);\n",
    "    grid.draw(vp) \n",
    "}"
   ]
  },
  {
   "cell_type": "code",
   "execution_count": 38,
   "metadata": {},
   "outputs": [],
   "source": [
    "if(bool_plot==FALSE){\n",
    "    p = assay(vst.data)\n",
    "\n",
    "    diet = p[rownames(p)%in%sigChow,]\n",
    "    heatmap.2(diet[,c(5:8,1:4)],\n",
    "              col=colors,scale=\"row\",\n",
    "              trace=\"none\",\n",
    "              main=\"Significant Chow Genes in IPcckHfd_and_IPvehHfd\",\n",
    "              Rowv=TRUE,\n",
    "              Colv=FALSE,\n",
    "              cexCol=2,\n",
    "              margins=c(15,33),\n",
    "              keysize=1,\n",
    "              distfun=dist.pear,\n",
    "              hclustfun=hclust.ave\n",
    "    )\n",
    "}"
   ]
  },
  {
   "cell_type": "markdown",
   "metadata": {},
   "source": [
    "## All samples together"
   ]
  },
  {
   "cell_type": "markdown",
   "metadata": {},
   "source": [
    "### Load data"
   ]
  },
  {
   "cell_type": "code",
   "execution_count": 39,
   "metadata": {},
   "outputs": [],
   "source": [
    "setwd('/Users/viktorian.miok/Documents/consultation/Tim/Oxytocin_data')\n",
    "raw_hfd <- read.table(file='counts.feb2020.tsv', header = T, sep='\\t')\n",
    "MUC14082 <- read.table(file='MUC14082.counts', header = F, sep='\\t')\n",
    "raw_chow <- read.table(file='counts.24sept2019.tsv', header = T, sep='\\t')\n",
    "setwd('/Users/viktorian.miok/Documents/consultation/Tim/Oxytocin_data/results')"
   ]
  },
  {
   "cell_type": "code",
   "execution_count": 40,
   "metadata": {},
   "outputs": [],
   "source": [
    "rownames(raw_chow) <- raw_chow[,1]\n",
    "raw_chow <- raw_chow[,-c(1,12)]"
   ]
  },
  {
   "cell_type": "code",
   "execution_count": 41,
   "metadata": {},
   "outputs": [],
   "source": [
    "raw_hfd <- cbind(raw_hfd,MUC14082)\n",
    "rownames(raw_hfd) <- raw_hfd[,1]\n",
    "raw_hfd <- raw_hfd[,c(2,14,3:12)]"
   ]
  },
  {
   "cell_type": "code",
   "execution_count": 42,
   "metadata": {},
   "outputs": [],
   "source": [
    "dat <- cbind(raw_chow,raw_hfd)"
   ]
  },
  {
   "cell_type": "code",
   "execution_count": 43,
   "metadata": {},
   "outputs": [],
   "source": [
    "id <- colnames(dat) <- c(\"inputCCK1\",\"inputCCK2\",\"inputCCK3\",\"inputCCK4\",\n",
    "                         \"inputVeh1\",\"inputVeh2\",\"inputVeh3\",\"inputVeh4\",\n",
    "                         \"IPcckChow1\",\"IPcckChow2\",\"IPcckChow3\",\n",
    "                         \"IPvehChow1\",\"IPvehChow2\",\"IPvehChow3\",\"IPvehChow4\",\n",
    "                         \"IPvehHfd1\",\"IPvehHfd2\",\"IPvehHfd3\",\"IPvehHfd4\",\n",
    "                         \"IPcckHfd1\",\"IPcckHfd2\",\"IPcckHfd3\",\"IPcckHfd4\",\n",
    "                         \"IPgluc1\",\"IPgluc2\",\"IPgluc3\",\"IPgluc4\")\n",
    "batch <- as.factor(c(rep(1,ncol(raw_chow)),rep(2,ncol(raw_hfd))))\n",
    "condition <- c(\"InputCCK\",\"InputCCK\",\"InputCCK\",\"InputCCK\",\n",
    "               \"InputVeh\",\"InputVeh\",\"InputVeh\",\"InputVeh\",\n",
    "               \"IPcckChow\",\"IPcckChow\",\"IPcckChow\",\n",
    "               \"IPvehChow\",\"IPvehChow\",\"IPvehChow\",\"IPvehChow\",\n",
    "               \"IPvehHfd\",\"IPvehHfd\",\"IPvehHfd\",\"IPvehHfd\",\n",
    "               \"IPcckHfd\",\"IPcckHfd\",\"IPcckHfd\",\"IPcckHfd\",\n",
    "               \"IPgluc\",\"IPgluc\",\"IPgluc\",\"IPgluc\")\n",
    "metaData <- data.frame(id, batch, condition)"
   ]
  },
  {
   "cell_type": "markdown",
   "metadata": {},
   "source": [
    "### Prepocessing and creating DESeq object"
   ]
  },
  {
   "cell_type": "code",
   "execution_count": 44,
   "metadata": {},
   "outputs": [
    {
     "name": "stdout",
     "output_type": "stream",
     "text": [
      "Found 2 batches\n",
      "Using null model in ComBat-seq.\n",
      "Adjusting for 0 covariate(s) or covariate level(s)\n",
      "Estimating dispersions\n",
      "Fitting the GLM model\n",
      "Shrinkage off - using GLM estimates for parameters\n",
      "Adjusting the data\n"
     ]
    }
   ],
   "source": [
    "dat <- ComBat_seq(as.matrix(dat),\n",
    "                  batch=batch,\n",
    "                  group=NULL\n",
    ")"
   ]
  },
  {
   "cell_type": "code",
   "execution_count": 45,
   "metadata": {},
   "outputs": [
    {
     "name": "stderr",
     "output_type": "stream",
     "text": [
      "converting counts to integer mode\n",
      "\n",
      "Warning message in DESeqDataSet(se, design = design, ignoreRank):\n",
      "“some variables in design formula are characters, converting to factors”\n"
     ]
    }
   ],
   "source": [
    "dds <- DESeqDataSetFromMatrix(countData=dat,\n",
    "                              colData=metaData,\n",
    "                              design =~ condition\n",
    ")\n",
    "dds <- estimateSizeFactors(dds)\n",
    "idx <- rowMeans(counts(dds, normalized=TRUE)) >= 10\n",
    "dds <- dds[idx,]\n",
    "vsd <- vst(dds, fitType=\"local\")\n",
    "\n",
    "vst.data <- varianceStabilizingTransformation(dds, blind = TRUE, fitType = \"local\")"
   ]
  },
  {
   "cell_type": "markdown",
   "metadata": {},
   "source": [
    "### Visualisation"
   ]
  },
  {
   "cell_type": "code",
   "execution_count": 46,
   "metadata": {},
   "outputs": [],
   "source": [
    "if(bool_plot==FALSE){\n",
    "    pcaData <- plotPCA(vsd, intgroup=c(\"condition\"), returnData=TRUE)\n",
    "    percentVar <- round(100 * attr(pcaData, \"percentVar\"))\n",
    "    p2 <- ggplot(pcaData, aes(PC1, PC2, color = condition)) +\n",
    "                geom_point(size=3) +\n",
    "                geom_label(aes(label = colnames(dat))) +\n",
    "                xlab(paste0(\"PC1: \",percentVar[1],\"% variance\")) + \n",
    "                ylab(paste0(\"PC2: \",percentVar[2],\"% variance\")) +\n",
    "                ggtitle(\"PCA Plot - All Samples\") + # Batch Corrected\n",
    "                theme(legend.position = \"right\", legend.text = element_text(size = 15)) + \n",
    "                guides(col = guide_legend(nrow=4))\n",
    "    p2 + theme(axis.title=element_text(size=20,face=\"bold\"),\n",
    "               axis.text=element_text(size=20),\n",
    "              title=element_text(size=20,face=\"bold\")) #+ xlim(-80,50) #+ ylim(-20,20) + xlim(-15,25)\n",
    "}"
   ]
  },
  {
   "cell_type": "code",
   "execution_count": 47,
   "metadata": {},
   "outputs": [],
   "source": [
    "if(bool_plot==FALSE){\n",
    "    ### Visualize the sample distances (euclidian distance) in the heatmaps using pheatmap package\n",
    "    sampleDistMatrix <- as.matrix(dist(t(assay(vst.data))))\n",
    "    colors <- colorRampPalette( rev(brewer.pal(9, \"Spectral\")) )(255)\n",
    "\n",
    "    # Data frame with column annotations.\n",
    "    col_ann <- data.frame(condition = colData(dds)$condition)\n",
    "    rownames(col_ann) <- colnames(sampleDistMatrix)\n",
    "\n",
    "    # List with colors for each annotation.\n",
    "    ann_colors <- list(condition = brewer.pal(7, \"Set3\"))\n",
    "    names(ann_colors$condition) <- unique(colData(dds)$condition)\n",
    "    #ann_colors[[1]] <- ann_colors$condition[-3]\n",
    "\n",
    "    pheatmap(sampleDistMatrix,\n",
    "             clustering_distance_rows=dist(t(assay(vst.data))),\n",
    "             clustering_distance_cols=dist(t(assay(vst.data))),\n",
    "             show_colnames=TRUE,\n",
    "             show_rownames=FALSE,\n",
    "             annotation=col_ann,\n",
    "             annotation_colors=ann_colors,\n",
    "             col=colors)\n",
    "}"
   ]
  },
  {
   "cell_type": "markdown",
   "metadata": {},
   "source": [
    "### Diferential gene expression"
   ]
  },
  {
   "cell_type": "code",
   "execution_count": 48,
   "metadata": {},
   "outputs": [
    {
     "name": "stderr",
     "output_type": "stream",
     "text": [
      "using pre-existing size factors\n",
      "\n",
      "estimating dispersions\n",
      "\n",
      "gene-wise dispersion estimates\n",
      "\n",
      "mean-dispersion relationship\n",
      "\n",
      "final dispersion estimates\n",
      "\n",
      "fitting model and testing\n",
      "\n"
     ]
    }
   ],
   "source": [
    "dds <- DESeq(dds, \n",
    "             fit='local'\n",
    ")"
   ]
  },
  {
   "cell_type": "markdown",
   "metadata": {},
   "source": [
    "## IP_CCK-HFD vs. IP_Veh-Chow  "
   ]
  },
  {
   "cell_type": "code",
   "execution_count": 49,
   "metadata": {},
   "outputs": [
    {
     "data": {
      "text/plain": [
       "\n",
       "FALSE  TRUE \n",
       "13145  2408 "
      ]
     },
     "metadata": {},
     "output_type": "display_data"
    }
   ],
   "source": [
    "vehChowVScckHfd <- results(dds, \n",
    "                           contrast=c(\"condition\",\"IPcckHfd\",\"IPvehChow\")\n",
    ")\n",
    "table(vehChowVScckHfd$padj < 0.05)\n",
    "res = vehChowVScckHfd[order(vehChowVScckHfd$padj),]"
   ]
  },
  {
   "cell_type": "code",
   "execution_count": 50,
   "metadata": {},
   "outputs": [],
   "source": [
    "results4 = as.data.frame(dplyr::mutate(as.data.frame(res), \n",
    "                                       sig=ifelse(res$padj<0.05, \"FDR<0.05\", \"Not Sig\")),\n",
    "                         row.names=rownames(res)\n",
    ")\n",
    "results4 = results4[(!is.na(results4$pvalue)),]\n",
    "results4 = results4[(!is.na(results4$padj)),]"
   ]
  },
  {
   "cell_type": "code",
   "execution_count": 51,
   "metadata": {},
   "outputs": [],
   "source": [
    "write.csv(as.data.frame(results4), file=\"DifferentialExpressionAnalysis_IPcckHfd_vs_IPvehChow.csv\")"
   ]
  },
  {
   "cell_type": "code",
   "execution_count": 52,
   "metadata": {},
   "outputs": [],
   "source": [
    "if(bool_plot==FALSE){\n",
    "    p = ggplot2::ggplot(results4, ggplot2::aes(log2FoldChange, -log10(padj))) +\n",
    "        ggplot2::geom_point(ggplot2::aes(col = sig)) + \n",
    "        ggplot2::scale_color_manual(values = c(\"red\", \"black\")) +\n",
    "              guides(col = guide_legend(nrow=2)) +\n",
    "        ggplot2::ggtitle(\"IPcckHFD_vs_IPVehChow\") + \n",
    "        ggrepel::geom_text_repel(data=results4[1:20, ], ggplot2::aes(label=rownames(results4[1:20, ])))\n",
    "    p + theme(axis.title=element_text(size=20,face=\"bold\"), axis.text = element_text(size = 20),\n",
    "              title=element_text(size=20, face=\"bold\"))\n",
    "}"
   ]
  },
  {
   "cell_type": "code",
   "execution_count": 53,
   "metadata": {},
   "outputs": [],
   "source": [
    "if(bool_plot==FALSE){\n",
    "    p = assay(vst.data)\n",
    "    diet = p[rownames(p)%in%rownames(res[which(res$padj<0.05),]),]\n",
    "    heatmap.2(diet[,c(12:15,20:23)], \n",
    "              col=colors,scale=\"row\",\n",
    "              trace=\"none\",\n",
    "              main=\"Signif. Gen:IP_CCK-HFD_vs_IP_Veh-Chow\",\n",
    "              Rowv=TRUE,\n",
    "              Colv=FALSE,\n",
    "              cexCol=2,\n",
    "              margins=c(15, 33),\n",
    "              keysize=1,\n",
    "              distfun=dist.pear,\n",
    "              hclustfun=hclust.ave\n",
    "    )\n",
    "}"
   ]
  },
  {
   "cell_type": "code",
   "execution_count": 54,
   "metadata": {},
   "outputs": [],
   "source": [
    "resCP1 <- res[which(res[,6]<0.05),]"
   ]
  },
  {
   "cell_type": "code",
   "execution_count": 55,
   "metadata": {},
   "outputs": [
    {
     "name": "stderr",
     "output_type": "stream",
     "text": [
      "'select()' returned 1:1 mapping between keys and columns\n",
      "\n",
      "Warning message in bitr(rownames(resCP1), fromType = \"SYMBOL\", toType = \"ENTREZID\", :\n",
      "“13.66% of input gene IDs are fail to map...”\n"
     ]
    }
   ],
   "source": [
    "sig.gene <- bitr(rownames(resCP1),\n",
    "                 fromType=\"SYMBOL\",\n",
    "                 toType=\"ENTREZID\",\n",
    "                 OrgDb=org.Mm.eg.db\n",
    ")\n",
    "ego1 <- enrichGO(gene=sig.gene[,2],\n",
    "                 OrgDb=org.Mm.eg.db, \n",
    "                 ont=\"BP\", \n",
    "                 pAdjustMethod=\"BH\",\n",
    "                 pvalueCutoff=0.5, \n",
    "                 readable=TRUE\n",
    ")"
   ]
  },
  {
   "cell_type": "code",
   "execution_count": 56,
   "metadata": {},
   "outputs": [],
   "source": [
    "ego1Path <- data.frame(ego1@result$Description, \n",
    "                       ego1@result$p.adjust,\n",
    "                       ego1@result$geneID,\n",
    "                       ego1@result$Count\n",
    ")"
   ]
  },
  {
   "cell_type": "code",
   "execution_count": 57,
   "metadata": {},
   "outputs": [],
   "source": [
    "ego1Path=ego1Path[which(ego1Path[,2]<0.05),]"
   ]
  },
  {
   "cell_type": "code",
   "execution_count": 58,
   "metadata": {},
   "outputs": [],
   "source": [
    "colnames(ego1Path) <- c(\"PathwayName\",\"Pathway_AdjP-val\",\"GeneNanme\",\"GeneCount\")"
   ]
  },
  {
   "cell_type": "code",
   "execution_count": 59,
   "metadata": {},
   "outputs": [],
   "source": [
    "write.csv(ego1Path,\"GO_Signif_Pathways-IPcckHfd_vs_IPvehChow.csv\")"
   ]
  },
  {
   "cell_type": "code",
   "execution_count": 60,
   "metadata": {},
   "outputs": [],
   "source": [
    "df_total <- data.frame(ego1@result$Description[1:20], \n",
    "                       ego1@result$p.adjust[1:20],\n",
    "                       ego1@result$Count[1:20]\n",
    ")\n",
    "\n",
    "colnames(df_total) <- c(\"pathway\",\"padjPath\",\"count\")"
   ]
  },
  {
   "cell_type": "code",
   "execution_count": 61,
   "metadata": {},
   "outputs": [],
   "source": [
    "options(repr.plot.width=20, repr.plot.height=16)"
   ]
  },
  {
   "cell_type": "code",
   "execution_count": 62,
   "metadata": {},
   "outputs": [],
   "source": [
    "if(bool_plot==FALSE){\n",
    "    ggplot(df_total, aes(pathway, count)) + \n",
    "        geom_bar(stat = \"identity\", aes(fill = padjPath), position = position_stack(reverse = TRUE)) + \n",
    "        coord_flip() +\n",
    "        scale_color_gradient(low=\"red\", high=\"yellow\")+\n",
    "        theme(axis.title=element_text(size=20,face=\"bold\"),\n",
    "              axis.text = element_text(size = 20),\n",
    "              title=element_text(size=20,face=\"bold\")) +\n",
    "        ylab(\"Nr. of Genes in Pathway\") + \n",
    "        xlab(\"Pathway Names\") + \n",
    "        ggtitle(\"GO Significant Pathways\")\n",
    "}"
   ]
  },
  {
   "cell_type": "code",
   "execution_count": 63,
   "metadata": {},
   "outputs": [],
   "source": [
    "df_total = data.frame()\n",
    "for(i in 1:20){\n",
    "    p <- as.data.frame(resCP1[which(rownames(resCP1)%in%unlist(strsplit(ego1@result$geneID[i],\"/\"))),c(2,6)])\n",
    "    p$pathway <- ego1@result$Description[i]\n",
    "    p$padjPath <- ego1@result$p.adjust[i]\n",
    "    p$count <- ego1@result$Count[i]\n",
    "    df_total <- rbind(df_total,p)\n",
    "}\n",
    "df_total[is.na(df_total[,2]),2] <- 0.05"
   ]
  },
  {
   "cell_type": "code",
   "execution_count": 64,
   "metadata": {},
   "outputs": [],
   "source": [
    "if(bool_plot==FALSE){\n",
    "    ggplot(df_total, aes(log2FoldChange, pathway)) + \n",
    "        scale_color_gradient(low=\"red\", high=\"yellow\") +\n",
    "        geom_point(aes(color = -log10(padj))) +\n",
    "        geom_vline(xintercept = 0) +\n",
    "        theme(axis.title=element_text(size=20,face=\"bold\"),\n",
    "              axis.text=element_text(size = 20),\n",
    "              title=element_text(size=20,face=\"bold\")) +\n",
    "        ylab(\"Pathway Names\") + \n",
    "        ggtitle(\"Significant Genes\")\n",
    "}"
   ]
  },
  {
   "cell_type": "markdown",
   "metadata": {},
   "source": [
    "## IP_Veh-HFD vs. IP_Veh-Chow "
   ]
  },
  {
   "cell_type": "code",
   "execution_count": 65,
   "metadata": {},
   "outputs": [
    {
     "data": {
      "text/plain": [
       "\n",
       "FALSE  TRUE \n",
       "13065  3127 "
      ]
     },
     "metadata": {},
     "output_type": "display_data"
    }
   ],
   "source": [
    "vehChowVSvehHfd <- results(dds, contrast = c(\"condition\",\"IPvehHfd\",\"IPvehChow\"))\n",
    "table(vehChowVSvehHfd$padj < 0.05)\n",
    "res = vehChowVSvehHfd[order(vehChowVSvehHfd$padj),]"
   ]
  },
  {
   "cell_type": "code",
   "execution_count": 66,
   "metadata": {},
   "outputs": [],
   "source": [
    "results5 = as.data.frame(dplyr::mutate(as.data.frame(res), \n",
    "                                       sig=ifelse(res$padj<0.05, \"FDR<0.05\", \"Not Sig\")),\n",
    "                         row.names=rownames(res)\n",
    ")\n",
    "results5 = results5[(!is.na(results5$pvalue)),]\n",
    "results5 = results5[(!is.na(results5$padj)),]"
   ]
  },
  {
   "cell_type": "code",
   "execution_count": 67,
   "metadata": {},
   "outputs": [],
   "source": [
    "write.csv(as.data.frame(results5), file=\"DifferentialExpressionAnalysis_IPvehHfd_vs_IPvehChow.csv\")"
   ]
  },
  {
   "cell_type": "code",
   "execution_count": 68,
   "metadata": {},
   "outputs": [],
   "source": [
    "if(bool_plot==FALSE){\n",
    "    p = ggplot2::ggplot(results5, ggplot2::aes(log2FoldChange, -log10(padj))) +\n",
    "        ggplot2::geom_point(ggplot2::aes(col = sig)) + \n",
    "        ggplot2::scale_color_manual(values = c(\"red\", \"black\")) +\n",
    "        guides(col = guide_legend(nrow=2)) + \n",
    "        ggplot2::ggtitle(\"IPVehHFD_vs_IP_VehChow\")+\n",
    "        ggrepel::geom_text_repel(data=results5[1:20, ], ggplot2::aes(label=rownames(results5[1:20, ])))\n",
    "\n",
    "    p + theme(axis.title=element_text(size=20,face=\"bold\"),\n",
    "              axis.text=element_text(size = 20),\n",
    "              title=element_text(size=20,face=\"bold\"))\n",
    "}"
   ]
  },
  {
   "cell_type": "code",
   "execution_count": 69,
   "metadata": {},
   "outputs": [],
   "source": [
    "if(bool_plot==FALSE){\n",
    "    p = assay(vst.data)\n",
    "    diet = p[rownames(p)%in%rownames(res[which(res$padj<0.05),]),]\n",
    "    heatmap.2(diet[,c(12:15,16:19)], \n",
    "              col=colors,\n",
    "              scale=\"row\",\n",
    "              trace=\"none\",\n",
    "              main=\"Signif.Gen:IPvehHfd_vs_IPvehChow\",\n",
    "              Rowv=TRUE,\n",
    "              Colv=FALSE,\n",
    "              cexCol=2,\n",
    "              margins=c(15, 33),\n",
    "              keysize=1,\n",
    "              distfun=dist.pear,\n",
    "              hclustfun=hclust.ave\n",
    "    )\n",
    "}"
   ]
  },
  {
   "cell_type": "code",
   "execution_count": 70,
   "metadata": {},
   "outputs": [],
   "source": [
    "resCP2 <- res[which(res[,6]<0.05),]"
   ]
  },
  {
   "cell_type": "code",
   "execution_count": 71,
   "metadata": {},
   "outputs": [
    {
     "name": "stderr",
     "output_type": "stream",
     "text": [
      "'select()' returned 1:1 mapping between keys and columns\n",
      "\n",
      "Warning message in bitr(rownames(resCP2), fromType = \"SYMBOL\", toType = \"ENTREZID\", :\n",
      "“17.01% of input gene IDs are fail to map...”\n"
     ]
    }
   ],
   "source": [
    "sig.gene <- bitr(rownames(resCP2),\n",
    "                 fromType=\"SYMBOL\",\n",
    "                 toType=\"ENTREZID\",\n",
    "                 OrgDb=org.Mm.eg.db\n",
    ")\n",
    "ego2 <- enrichGO(gene=sig.gene[,2], \n",
    "                 OrgDb=org.Mm.eg.db,\n",
    "                 ont=\"BP\", \n",
    "                 pAdjustMethod=\"BH\",\n",
    "                 pvalueCutoff=0.5, \n",
    "                 readable=TRUE\n",
    ")"
   ]
  },
  {
   "cell_type": "code",
   "execution_count": 72,
   "metadata": {},
   "outputs": [],
   "source": [
    "ego2Path <- data.frame(ego2@result$Description, \n",
    "                       ego2@result$p.adjust, \n",
    "                       ego2@result$geneID, \n",
    "                       ego2@result$Count\n",
    ")"
   ]
  },
  {
   "cell_type": "code",
   "execution_count": 73,
   "metadata": {},
   "outputs": [],
   "source": [
    "ego2Path=ego2Path[which(ego2Path[,2]<0.05),]"
   ]
  },
  {
   "cell_type": "code",
   "execution_count": 74,
   "metadata": {},
   "outputs": [],
   "source": [
    "colnames(ego2Path) <- c(\"PathwayName\",\"Pathway_AdjP-val\",\"GeneNanme\",\"GeneCount\")"
   ]
  },
  {
   "cell_type": "code",
   "execution_count": 75,
   "metadata": {},
   "outputs": [],
   "source": [
    "write.csv(ego2Path,\"GO_Signif_Pathways-IPvehHfd_vs_IPvehChow.csv\")"
   ]
  },
  {
   "cell_type": "code",
   "execution_count": 76,
   "metadata": {},
   "outputs": [],
   "source": [
    "df_total <- data.frame(ego2@result$Description[1:20], \n",
    "                       ego2@result$p.adjust[1:20], \n",
    "                       ego2@result$Count[1:20]\n",
    ")\n",
    "\n",
    "colnames(df_total) <- c(\"pathway\",\"padjPath\",\"count\")"
   ]
  },
  {
   "cell_type": "code",
   "execution_count": 77,
   "metadata": {},
   "outputs": [],
   "source": [
    "if(bool_plot==FALSE){\n",
    "    ggplot(df_total, aes(pathway, count)) +\n",
    "          geom_bar(stat = \"identity\", aes(fill = padjPath), \n",
    "                   position = position_stack(reverse = TRUE)) +\n",
    "          coord_flip() +\n",
    "          scale_color_gradient(low=\"red\", high=\"yellow\") +\n",
    "          theme(axis.title=element_text(size=20,face=\"bold\"),\n",
    "                axis.text = element_text(size = 20),\n",
    "                title=element_text(size=20,face=\"bold\")) +\n",
    "          ylab(\"Nr. of Genes in Pathway\") +\n",
    "          xlab(\"Pathway Names\") + \n",
    "          ggtitle(\"GO Significant Pathways\")\n",
    "}"
   ]
  },
  {
   "cell_type": "code",
   "execution_count": 78,
   "metadata": {},
   "outputs": [],
   "source": [
    "df_total = data.frame()\n",
    "for(i in 1:20){\n",
    "    p <- as.data.frame(resCP2[which(rownames(resCP2)%in%unlist(strsplit(ego2@result$geneID[i],\"/\"))),c(2,6)])\n",
    "    p$pathway <- ego2@result$Description[i]\n",
    "    p$padjPath <- ego2@result$p.adjust[i]\n",
    "    p$count <- ego2@result$Count[i]\n",
    "    df_total <- rbind(df_total,p)\n",
    "}\n",
    "df_total[is.na(df_total[,2]),2] <- 0.05"
   ]
  },
  {
   "cell_type": "code",
   "execution_count": 79,
   "metadata": {},
   "outputs": [],
   "source": [
    "if(bool_plot==FALSE){\n",
    "    ggplot(df_total, aes(log2FoldChange, pathway)) + \n",
    "         scale_color_gradient(low=\"red\", high=\"yellow\") +\n",
    "         geom_point(aes(color = -log10(padj))) + \n",
    "         geom_vline(xintercept = 0)+\n",
    "         theme(axis.title=element_text(size=20,face=\"bold\"),\n",
    "               axis.text = element_text(size = 20),\n",
    "               title=element_text(size=20,face=\"bold\")) +\n",
    "         ylab(\"Pathway Names\") + \n",
    "         ggtitle(\"Significant Genes\")\n",
    "}"
   ]
  },
  {
   "cell_type": "markdown",
   "metadata": {},
   "source": [
    "## IP_Glucose vs. IP_Veh-Chow "
   ]
  },
  {
   "cell_type": "code",
   "execution_count": 80,
   "metadata": {},
   "outputs": [
    {
     "data": {
      "text/plain": [
       "\n",
       "FALSE  TRUE \n",
       "15505  1008 "
      ]
     },
     "metadata": {},
     "output_type": "display_data"
    }
   ],
   "source": [
    "vehHfdVScckHfd <- results(dds, contrast = c(\"condition\",\"IPgluc\",\"IPvehChow\"))\n",
    "table(vehHfdVScckHfd$padj < 0.05)\n",
    "res = vehHfdVScckHfd[order(vehHfdVScckHfd$padj),]"
   ]
  },
  {
   "cell_type": "code",
   "execution_count": 81,
   "metadata": {},
   "outputs": [],
   "source": [
    "results6 = as.data.frame(dplyr::mutate(as.data.frame(res),\n",
    "                                       sig=ifelse(res$padj<0.05, \"FDR<0.05\", \"Not Sig\")), \n",
    "                         row.names=rownames(res)\n",
    ")\n",
    "results6 = results6[(!is.na(results6$pvalue)),]"
   ]
  },
  {
   "cell_type": "code",
   "execution_count": 82,
   "metadata": {},
   "outputs": [],
   "source": [
    "write.csv(as.data.frame(results6), file=\"DifferentialExpressionAnalysis_IPgluc_vs_IPvehChow.csv\")"
   ]
  },
  {
   "cell_type": "code",
   "execution_count": 83,
   "metadata": {},
   "outputs": [],
   "source": [
    "if(bool_plot==FALSE){\n",
    "    p <-  ggplot2::ggplot(results6, ggplot2::aes(log2FoldChange, -log10(padj))) +\n",
    "          ggplot2::geom_point(ggplot2::aes(col = sig)) +\n",
    "          ggplot2::scale_color_manual(values = c(\"red\", \"black\")) +\n",
    "          guides(col = guide_legend(nrow=2)) + \n",
    "          ggplot2::ggtitle(\"IP_Glucose_vs_IP_Veh-Chow\")+#xlim(-10,10)+ylim(0,40) + \n",
    "          ggrepel::geom_text_repel(data=results6[1:20, ], ggplot2::aes(label=rownames(results6[1:20, ])))\n",
    "\n",
    "    p + theme(axis.title=element_text(size=20,face=\"bold\"),\n",
    "              axis.text = element_text(size = 20),\n",
    "              title=element_text(size=20,face=\"bold\"))\n",
    "}"
   ]
  },
  {
   "cell_type": "code",
   "execution_count": 84,
   "metadata": {},
   "outputs": [],
   "source": [
    "if(bool_plot==FALSE){\n",
    "    p = assay(vst.data)\n",
    "    diet <- p[rownames(p)%in%rownames(res[which(res$padj<0.05),]),]\n",
    "    heatmap.2(diet[,c(12:15,24:27)], \n",
    "              col=colors,scale=\"row\",\n",
    "              trace=\"none\",\n",
    "              main=\"Top Genes - IP_Glucose vs. IP_Veh-Chow\",\n",
    "              Rowv=TRUE,\n",
    "              Colv=FALSE,\n",
    "              cexCol=2,\n",
    "              margins=c(15, 33),\n",
    "              keysize=1,\n",
    "              distfun=dist.pear,\n",
    "              hclustfun=hclust.ave\n",
    "    )\n",
    "}"
   ]
  },
  {
   "cell_type": "code",
   "execution_count": 85,
   "metadata": {},
   "outputs": [],
   "source": [
    "resCP3 <- res[which(res[,6]<0.05),]"
   ]
  },
  {
   "cell_type": "code",
   "execution_count": 86,
   "metadata": {},
   "outputs": [
    {
     "name": "stderr",
     "output_type": "stream",
     "text": [
      "'select()' returned 1:1 mapping between keys and columns\n",
      "\n",
      "Warning message in bitr(rownames(resCP3), fromType = \"SYMBOL\", toType = \"ENTREZID\", :\n",
      "“9.72% of input gene IDs are fail to map...”\n"
     ]
    }
   ],
   "source": [
    "sig.gene <- bitr(rownames(resCP3), \n",
    "                 fromType=\"SYMBOL\",\n",
    "                 toType=\"ENTREZID\",\n",
    "                 OrgDb=org.Mm.eg.db\n",
    ")\n",
    "ego3 <- enrichGO(gene=sig.gene[,2], \n",
    "                 OrgDb=org.Mm.eg.db, \n",
    "                 ont=\"BP\",\n",
    "                 pAdjustMethod=\"BH\",\n",
    "                 pvalueCutoff=0.5, \n",
    "                 readable=TRUE\n",
    ")"
   ]
  },
  {
   "cell_type": "code",
   "execution_count": 87,
   "metadata": {},
   "outputs": [],
   "source": [
    "ego3Path <- data.frame(ego3@result$Description, \n",
    "                       ego3@result$p.adjust,\n",
    "                       ego3@result$geneID, \n",
    "                       ego3@result$Count\n",
    ")"
   ]
  },
  {
   "cell_type": "code",
   "execution_count": 88,
   "metadata": {},
   "outputs": [],
   "source": [
    "ego3Path=ego3Path[which(ego3Path[,2]<0.05),]"
   ]
  },
  {
   "cell_type": "code",
   "execution_count": 89,
   "metadata": {},
   "outputs": [],
   "source": [
    "colnames(ego3Path) <- c(\"PathwayName\",\"Pathway_AdjP-val\",\"GeneNanme\",\"GeneCount\")"
   ]
  },
  {
   "cell_type": "code",
   "execution_count": 90,
   "metadata": {},
   "outputs": [],
   "source": [
    "write.csv(ego3Path,\"GO_Signif_Pathways-Treatment_Effect_IPgluc_vs_IPvehChow.csv\")"
   ]
  },
  {
   "cell_type": "code",
   "execution_count": 91,
   "metadata": {},
   "outputs": [],
   "source": [
    "df_total <- data.frame(ego3@result$Description[1:20], \n",
    "                       ego3@result$p.adjust[1:20],\n",
    "                       ego3@result$Count[1:20]\n",
    ")\n",
    "\n",
    "colnames(df_total) <- c(\"pathway\",\"padjPath\",\"count\")"
   ]
  },
  {
   "cell_type": "code",
   "execution_count": 92,
   "metadata": {},
   "outputs": [],
   "source": [
    "if(bool_plot==FALSE){\n",
    "    ggplot(df_total, aes(pathway, count)) + \n",
    "        geom_bar(stat = \"identity\", aes(fill = padjPath), position = position_stack(reverse = TRUE)) + \n",
    "        coord_flip() +\n",
    "        scale_color_gradient(low=\"red\", high=\"yellow\")+\n",
    "        theme(axis.title=element_text(size=20,face=\"bold\"),\n",
    "              axis.text = element_text(size = 20),\n",
    "              title=element_text(size=20,face=\"bold\")) +\n",
    "        ylab(\"Nr. of Genes in Pathway\") + \n",
    "        ggtitle(\"GO Significant Pathways\")\n",
    "}"
   ]
  },
  {
   "cell_type": "code",
   "execution_count": 93,
   "metadata": {},
   "outputs": [],
   "source": [
    "df_total = data.frame()\n",
    "for(i in 1:20){\n",
    "    p <- as.data.frame(resCP3[which(rownames(resCP3)%in%unlist(strsplit(ego1@result$geneID[i],\"/\"))),c(2,6)])\n",
    "    p$pathway <- ego1@result$Description[i]\n",
    "    p$padjPath <- ego1@result$p.adjust[i]\n",
    "    p$count <- ego1@result$Count[i]\n",
    "    df_total <- rbind(df_total,p)\n",
    "}\n",
    "df_total[is.na(df_total[,2]),2] <- 0.05"
   ]
  },
  {
   "cell_type": "code",
   "execution_count": 94,
   "metadata": {},
   "outputs": [],
   "source": [
    "if(bool_plot==FALSE){\n",
    "    ggplot(df_total, aes(log2FoldChange, pathway)) + \n",
    "        scale_color_gradient(low=\"red\", high=\"yellow\") +\n",
    "        geom_point(aes(color = -log10(padj))) +\n",
    "        geom_vline(xintercept = 0) +\n",
    "        theme(axis.title=element_text(size=20,face=\"bold\"),\n",
    "              axis.text = element_text(size = 20),\n",
    "              title=element_text(size=20,face=\"bold\")) +\n",
    "        ylab(\"Pathway Names\")+ggtitle(\"Significant Genes\")\n",
    "}"
   ]
  },
  {
   "cell_type": "markdown",
   "metadata": {},
   "source": [
    "## Venn Diagram"
   ]
  },
  {
   "cell_type": "code",
   "execution_count": 95,
   "metadata": {},
   "outputs": [],
   "source": [
    "IPvehChow_vs_IPcckHfd_down <- rownames(results4[which((results4$sig==\"FDR<0.05\")&(results4$log2FoldChange<0)),]) \n",
    "IPvehChow_vs_IPcckHfd_up <- rownames(results4[which((results4$sig==\"FDR<0.05\")&(results4$log2FoldChange>0)),]) \n",
    "IPvehChow_vs_IPvehHfd_down <- rownames(results5[which((results5$sig==\"FDR<0.05\")&(results5$log2FoldChange<0)),])\n",
    "IPvehChow_vs_IPvehHfd_up <- rownames(results5[which((results5$sig==\"FDR<0.05\")&(results5$log2FoldChange>0)),])\n",
    "IPvehChow_vs_IPglucose_down <- rownames(results6[which((results6$sig==\"FDR<0.05\")&(results6$log2FoldChange<0)),])\n",
    "IPvehChow_vs_IPglucose_up <- rownames(results6[which((results6$sig==\"FDR<0.05\")&(results6$log2FoldChange>0)),])"
   ]
  },
  {
   "cell_type": "code",
   "execution_count": 96,
   "metadata": {},
   "outputs": [],
   "source": [
    "if(bool_plot==FALSE){\n",
    "    vp <- venn.diagram(list(IPvehChow_vs_IPcckHfd_up = IPvehChow_vs_IPcckHfd_up, \n",
    "                            IPvehChow_vs_IPvehHfd_up = IPvehChow_vs_IPvehHfd_up, \n",
    "                            IPvehChow_vs_IPglucose_up = IPvehChow_vs_IPglucose_up),\n",
    "                       fill=c(\"red\", \"olivedrab3\", \"#56B4E9\"),\n",
    "                       filename=NULL,\n",
    "                       cex=1.5, \n",
    "                       col=\"transparent\",\n",
    "                       cat.cex=1.3, \n",
    "                       margin=0.15, \n",
    "                       main=\"Chow vs. HFHS Diet - up-regulated\", \n",
    "                       main.cex=2);\n",
    "    grid.draw(vp)\n",
    "}"
   ]
  },
  {
   "cell_type": "code",
   "execution_count": 97,
   "metadata": {},
   "outputs": [],
   "source": [
    "if(bool_plot==FALSE){\n",
    "    vp <- venn.diagram(list(IPvehChow_vs_IPcckHfd_down = IPvehChow_vs_IPcckHfd_down, \n",
    "                            IPvehChow_vs_IPvehHfd_down = IPvehChow_vs_IPvehHfd_down, \n",
    "                            IPvehChow_vs_IPglucose_down = IPvehChow_vs_IPglucose_down),\n",
    "                       fill=c(\"red\", \"olivedrab3\", \"#56B4E9\"),\n",
    "                       filename=NULL, \n",
    "                       cex=1.5, \n",
    "                       col=\"transparent\",\n",
    "                       cat.cex=1.3,\n",
    "                       margin=0.15, \n",
    "                       main=\"Chow vs. HFHS Diet - down-regulated\", \n",
    "                       main.cex=2);\n",
    "    grid.draw(vp)\n",
    "}"
   ]
  },
  {
   "cell_type": "code",
   "execution_count": null,
   "metadata": {},
   "outputs": [],
   "source": []
  }
 ],
 "metadata": {
  "kernelspec": {
   "display_name": "R",
   "language": "R",
   "name": "ir"
  },
  "language_info": {
   "codemirror_mode": "r",
   "file_extension": ".r",
   "mimetype": "text/x-r-source",
   "name": "R",
   "pygments_lexer": "r",
   "version": "4.0.3"
  }
 },
 "nbformat": 4,
 "nbformat_minor": 2
}
