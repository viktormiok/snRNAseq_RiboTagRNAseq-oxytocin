{
 "cells": [
  {
   "cell_type": "markdown",
   "metadata": {},
   "source": [
    "# Analysis of OXT neurons scRNA-seq data set  "
   ]
  },
  {
   "cell_type": "markdown",
   "metadata": {},
   "source": [
    "## Table of contents:\n",
    "\n",
    "* <a href=#Load>Load Packages and Set Global Variables</a>\n",
    "    * <a href=#Imports>Imports and Settings</a>\n",
    "    * <a href=#Global>Global Variables</a> \n",
    "* <a href=#Dataloading>Loading Data, Quality Control and Preprocessing</a>\n",
    "    * <a href=#Counts>Gene numbers and counts with and without mitochondrial RNA</a>\n",
    "* <a href=#Allcells>All cells - normalization, projection and clustering</a>\n",
    "* <a href=#Define>Define Cell Types</a>\n",
    "* <a href=#astrocytes>Astrocytes Only</a>\n",
    "    * <a href=#Embedding>Embeddings and Clustering</a>\n",
    "    * <a href=#adipmarkers>Astrocyte Marker Analysis</a>\n",
    "    * <a href=#topde>Top ranking DE Genes</a>\n",
    "    * <a href=#count_dist>Count distribution for Gfap, Aldh1l1 and Slc1a3</a>\n",
    "* <a href=#traject>Gfap and Aldh1l1 only</a>"
   ]
  },
  {
   "cell_type": "markdown",
   "metadata": {},
   "source": [
    "## Load Packages and Set Global Variables"
   ]
  },
  {
   "cell_type": "markdown",
   "metadata": {},
   "source": [
    "### Imports and Settings"
   ]
  },
  {
   "cell_type": "code",
   "execution_count": 1,
   "metadata": {
    "scrolled": true
   },
   "outputs": [
    {
     "name": "stderr",
     "output_type": "stream",
     "text": [
      "WARNING: If you miss a compact list, please try `print_header`!\n"
     ]
    },
    {
     "name": "stdout",
     "output_type": "stream",
     "text": [
      "-----\n",
      "anndata     0.7.5\n",
      "scanpy      1.7.1\n",
      "sinfo       0.3.1\n",
      "-----\n",
      "PIL                 8.1.2\n",
      "PyObjCTools         NA\n",
      "anndata             0.7.5\n",
      "anndata2ri          1.0.6\n",
      "appnope             0.1.2\n",
      "autoreload          NA\n",
      "backcall            0.2.0\n",
      "batchglm            v0.7.4\n",
      "certifi             2020.12.05\n",
      "cffi                1.14.5\n",
      "chardet             4.0.0\n",
      "cloudpickle         1.6.0\n",
      "colorama            0.4.4\n",
      "custom_functions    NA\n",
      "cycler              0.10.0\n",
      "cython_runtime      NA\n",
      "dask                2021.03.0\n",
      "dateutil            2.8.1\n",
      "decorator           4.4.2\n",
      "diffxpy             v0.7.4\n",
      "get_version         2.1\n",
      "gprofiler           1.0.0\n",
      "h5py                3.2.1\n",
      "idna                2.10\n",
      "igraph              0.9.0\n",
      "ipykernel           5.4.3\n",
      "ipython_genutils    0.2.0\n",
      "ipywidgets          7.6.3\n",
      "jedi                0.17.2\n",
      "jinja2              2.11.3\n",
      "joblib              1.0.1\n",
      "kiwisolver          1.3.1\n",
      "legacy_api_wrap     1.2\n",
      "leidenalg           0.8.3\n",
      "llvmlite            0.36.0\n",
      "markupsafe          1.1.1\n",
      "matplotlib          3.3.4\n",
      "mpl_toolkits        NA\n",
      "natsort             7.1.1\n",
      "numba               0.53.1\n",
      "numexpr             2.7.3\n",
      "numpy               1.20.1\n",
      "packaging           20.9\n",
      "pandas              1.2.3\n",
      "parso               0.7.0\n",
      "patsy               0.5.1\n",
      "pexpect             4.8.0\n",
      "pickleshare         0.7.5\n",
      "pkg_resources       NA\n",
      "prompt_toolkit      3.0.14\n",
      "psutil              5.8.0\n",
      "ptyprocess          0.7.0\n",
      "pyexpat             NA\n",
      "pygments            2.7.4\n",
      "pyparsing           2.4.7\n",
      "pytz                2021.1\n",
      "requests            2.25.1\n",
      "rpy2                3.4.2\n",
      "scanpy              1.7.1\n",
      "scipy               1.6.1\n",
      "seaborn             0.11.1\n",
      "sinfo               0.3.1\n",
      "six                 1.15.0\n",
      "sklearn             0.24.1\n",
      "sparse              0.12.0\n",
      "sphinxcontrib       NA\n",
      "statsmodels         0.12.2\n",
      "storemagic          NA\n",
      "tables              3.6.1\n",
      "texttable           1.6.3\n",
      "tlz                 0.11.1\n",
      "toolz               0.11.1\n",
      "tornado             6.1\n",
      "traitlets           5.0.5\n",
      "typing_extensions   NA\n",
      "tzlocal             NA\n",
      "urllib3             1.26.3\n",
      "wcwidth             0.2.5\n",
      "yaml                5.4.1\n",
      "zmq                 22.0.2\n",
      "zope                NA\n",
      "-----\n",
      "IPython             7.20.0\n",
      "jupyter_client      6.1.11\n",
      "jupyter_core        4.7.1\n",
      "notebook            6.2.0\n",
      "-----\n",
      "Python 3.9.2 (v3.9.2:1a79785e3e, Feb 19 2021, 09:06:10) [Clang 6.0 (clang-600.0.57)]\n",
      "macOS-10.16-x86_64-i386-64bit\n",
      "12 logical CPU cores, i386\n",
      "-----\n",
      "Session information updated at 2021-10-05 16:45\n",
      "\n",
      "3.9.2 (v3.9.2:1a79785e3e, Feb 19 2021, 09:06:10) \n",
      "[Clang 6.0 (clang-600.0.57)]\n"
     ]
    }
   ],
   "source": [
    "import numpy as np\n",
    "import pandas as pd\n",
    "import scanpy as sc\n",
    "import scipy as sci\n",
    "import scipy.sparse\n",
    "import seaborn as sns\n",
    "import matplotlib as mpl\n",
    "import custom_functions as cf\n",
    "import matplotlib.pyplot as plt\n",
    "from matplotlib import colors\n",
    "from matplotlib import rcParams\n",
    "from gprofiler import gprofiler\n",
    "import statistics\n",
    "import sys\n",
    "import re\n",
    "import os\n",
    "\n",
    "import batchglm\n",
    "import diffxpy.api as de\n",
    "%load_ext autoreload\n",
    "%autoreload 2\n",
    "\n",
    "\n",
    "import rpy2.rinterface_lib.callbacks\n",
    "import logging\n",
    "from rpy2.robjects import pandas2ri\n",
    "import anndata2ri\n",
    "%load_ext rpy2.ipython\n",
    "anndata2ri.activate()\n",
    "\n",
    "sc.settings.verbosity = 3 # amount of output\n",
    "dir_in = '/Users/viktorian.miok/Documents/consultation/Tim/snRNA-seq_oxytocin/data/'\n",
    "dir_out = '/Users/viktorian.miok/Documents/consultation/Tim/snRNA-seq_oxytocin/results/'\n",
    "dir_tables = dir_out+'tables/'\n",
    "sc_settings_figdir = dir_out+'panels/'\n",
    "sc_settings_writedir = dir_out+'anndata/'\n",
    "sc.logging.print_versions()\n",
    "sc.settings.set_figure_params(dpi=80, scanpy=True)\n",
    "sc.set_figure_params(scanpy=True, dpi=80, dpi_save=250, frameon=True, vector_friendly=True,\n",
    "                     color_map=\"YlGnBu\", format='pdf', transparent=False, ipython_format='png2x')\n",
    "print (sys.version)"
   ]
  },
  {
   "cell_type": "code",
   "execution_count": 2,
   "metadata": {},
   "outputs": [
    {
     "name": "stderr",
     "output_type": "stream",
     "text": [
      "R[write to console]: Загрузка требуемого пакета: SingleCellExperiment\n",
      "\n",
      "R[write to console]: Загрузка требуемого пакета: SummarizedExperiment\n",
      "\n",
      "R[write to console]: Загрузка требуемого пакета: GenomicRanges\n",
      "\n",
      "R[write to console]: Загрузка требуемого пакета: stats4\n",
      "\n",
      "R[write to console]: Загрузка требуемого пакета: BiocGenerics\n",
      "\n",
      "R[write to console]: Загрузка требуемого пакета: parallel\n",
      "\n",
      "R[write to console]: \n",
      "Присоединяю пакет: ‘BiocGenerics’\n",
      "\n",
      "\n",
      "R[write to console]: Следующие объекты скрыты от ‘package:parallel’:\n",
      "\n",
      "    clusterApply, clusterApplyLB, clusterCall, clusterEvalQ,\n",
      "    clusterExport, clusterMap, parApply, parCapply, parLapply,\n",
      "    parLapplyLB, parRapply, parSapply, parSapplyLB\n",
      "\n",
      "\n",
      "R[write to console]: Следующие объекты скрыты от ‘package:stats’:\n",
      "\n",
      "    IQR, mad, sd, var, xtabs\n",
      "\n",
      "\n",
      "R[write to console]: Следующие объекты скрыты от ‘package:base’:\n",
      "\n",
      "    Filter, Find, Map, Position, Reduce, anyDuplicated, append,\n",
      "    as.data.frame, basename, cbind, colnames, dirname, do.call,\n",
      "    duplicated, eval, evalq, get, grep, grepl, intersect, is.unsorted,\n",
      "    lapply, mapply, match, mget, order, paste, pmax, pmax.int, pmin,\n",
      "    pmin.int, rank, rbind, rownames, sapply, setdiff, sort, table,\n",
      "    tapply, union, unique, unsplit, which, which.max, which.min\n",
      "\n",
      "\n",
      "R[write to console]: Загрузка требуемого пакета: S4Vectors\n",
      "\n",
      "R[write to console]: \n",
      "Присоединяю пакет: ‘S4Vectors’\n",
      "\n",
      "\n",
      "R[write to console]: Следующий объект скрыт от ‘package:base’:\n",
      "\n",
      "    expand.grid\n",
      "\n",
      "\n",
      "R[write to console]: Загрузка требуемого пакета: IRanges\n",
      "\n",
      "R[write to console]: Загрузка требуемого пакета: GenomeInfoDb\n",
      "\n",
      "R[write to console]: Загрузка требуемого пакета: Biobase\n",
      "\n",
      "R[write to console]: Welcome to Bioconductor\n",
      "\n",
      "    Vignettes contain introductory material; view with\n",
      "    'browseVignettes()'. To cite Bioconductor, see\n",
      "    'citation(\"Biobase\")', and for packages 'citation(\"pkgname\")'.\n",
      "\n",
      "\n",
      "R[write to console]: Загрузка требуемого пакета: DelayedArray\n",
      "\n",
      "R[write to console]: Загрузка требуемого пакета: matrixStats\n",
      "\n",
      "R[write to console]: \n",
      "Присоединяю пакет: ‘matrixStats’\n",
      "\n",
      "\n",
      "R[write to console]: Следующие объекты скрыты от ‘package:Biobase’:\n",
      "\n",
      "    anyMissing, rowMedians\n",
      "\n",
      "\n",
      "R[write to console]: \n",
      "Присоединяю пакет: ‘DelayedArray’\n",
      "\n",
      "\n",
      "R[write to console]: Следующие объекты скрыты от ‘package:matrixStats’:\n",
      "\n",
      "    colMaxs, colMins, colRanges, rowMaxs, rowMins, rowRanges\n",
      "\n",
      "\n",
      "R[write to console]: Следующие объекты скрыты от ‘package:base’:\n",
      "\n",
      "    aperm, apply, rowsum\n",
      "\n",
      "\n"
     ]
    }
   ],
   "source": [
    "%%R\n",
    ".libPaths( c( .libPaths(), \"/Users/viktorian.miok/Library/R/4.0/library\") ) \n",
    "library(scran)"
   ]
  },
  {
   "cell_type": "code",
   "execution_count": 3,
   "metadata": {},
   "outputs": [],
   "source": [
    "colors2 = plt.cm.Reds(np.linspace(0, 1, 128))\n",
    "colors3 = plt.cm.Greys_r(np.linspace(0.7,0.8,20))\n",
    "colorsComb = np.vstack([colors3, colors2])\n",
    "mymap = colors.LinearSegmentedColormap.from_list('my_colormap', colorsComb)"
   ]
  },
  {
   "cell_type": "code",
   "execution_count": 4,
   "metadata": {},
   "outputs": [
    {
     "name": "stdout",
     "output_type": "stream",
     "text": [
      "v0.7.4\n"
     ]
    }
   ],
   "source": [
    "print(de.__version__)"
   ]
  },
  {
   "cell_type": "markdown",
   "metadata": {},
   "source": [
    "## Global variables"
   ]
  },
  {
   "cell_type": "markdown",
   "metadata": {},
   "source": [
    "All embeddings and clusterings can be saved and loaded into this script. Be careful with over-writing cluster caches as soon as cell type annotation has started as cluster labels may be shuffled."
   ]
  },
  {
   "cell_type": "markdown",
   "metadata": {},
   "source": [
    "Set whether anndata objects are recomputed or loaded from cache."
   ]
  },
  {
   "cell_type": "code",
   "execution_count": 5,
   "metadata": {},
   "outputs": [],
   "source": [
    "bool_recomp = True"
   ]
  },
  {
   "cell_type": "markdown",
   "metadata": {},
   "source": [
    "Set whether clustering is recomputed or loaded from saved .obs file. Loading makes sense if the clustering changes due to a change in scanpy or one of its dependencies and the number of clusters or the cluster labels change accordingly."
   ]
  },
  {
   "cell_type": "code",
   "execution_count": 6,
   "metadata": {},
   "outputs": [],
   "source": [
    "bool_recluster = True"
   ]
  },
  {
   "cell_type": "markdown",
   "metadata": {},
   "source": [
    "Set whether cluster cache is overwritten. Note that the cache exists for reproducibility of clustering, see above."
   ]
  },
  {
   "cell_type": "code",
   "execution_count": 7,
   "metadata": {},
   "outputs": [],
   "source": [
    "bool_write_cluster_cache = False"
   ]
  },
  {
   "cell_type": "markdown",
   "metadata": {},
   "source": [
    "Set whether to produce plots, set to False for test runs."
   ]
  },
  {
   "cell_type": "code",
   "execution_count": 8,
   "metadata": {},
   "outputs": [],
   "source": [
    "bool_plot = True"
   ]
  },
  {
   "cell_type": "markdown",
   "metadata": {},
   "source": [
    "## Load data"
   ]
  },
  {
   "cell_type": "code",
   "execution_count": 9,
   "metadata": {},
   "outputs": [],
   "source": [
    "if bool_recomp == False: \n",
    "    #adata = sc.read_excel(\"~/snRNAseq_data.xlsx\", sheet='expression').T\n",
    "    #adata.obs = pd.read_excel(\"~/snRNAseq_data.xlsx\", sheet_name='observations')\n",
    "    adata_r = sc.read(dir_in + 'adata_raw.h5ad')\n",
    "    adata_r.var.index = list(adata_r.var['ensmbl_id'])\n",
    "    \n",
    "    # split ERCC counts into a different object\n",
    "    ERCC = []\n",
    "    for i in adata_r.var_names:\n",
    "        if i[0:3] != \"ENS\" and i[0:2] != \"__\":\n",
    "            ERCC.append(i)\n",
    "    adataERCC = adata_r[:,ERCC].copy()\n",
    "    \n",
    "    # split endogenous transcript counts into a different object\n",
    "    transc = []\n",
    "    for i in adata_r.var_names:\n",
    "        if i[0:3] == \"ENS\":\n",
    "            transc.append(i)\n",
    "    adataT = adata_r[:,transc].copy()\n",
    "    \n",
    "    adata_r.obs['n_counts'] = adata_r.X.sum(axis=1) # endogeneous transcripts + ERCCs\n",
    "    adata_r.obs['n_counts_transcripts'] = np.sum(adataT.X, axis=1) # endogenous transcripts only\n",
    "    adata_r.obs['n_counts_ERCC'] = np.sum(adataERCC.X, axis=1) # ERCCs only\n",
    "    adata_r.obs['n_genes'] = (adata_r.X > 0).sum(1) # numbere of genes\n",
    "    \n",
    "    sc.write(sc_settings_writedir+'adata_r.h5ad',adata_r)\n",
    "else:\n",
    "    adata_r = sc.read(sc_settings_writedir+'adata_r.h5ad') "
   ]
  },
  {
   "cell_type": "code",
   "execution_count": 10,
   "metadata": {},
   "outputs": [],
   "source": [
    "if bool_plot == False:\n",
    "    sc.pl.violin(adata=adata_r, \n",
    "                 keys=['n_genes', 'n_counts', 'n_counts_ERCC', 'n_counts_transcripts'],\n",
    "                 jitter=0.4,\n",
    "                 multi_panel=True,\n",
    "                 save=True\n",
    "    ) "
   ]
  },
  {
   "cell_type": "markdown",
   "metadata": {},
   "source": [
    "## Filtering"
   ]
  },
  {
   "cell_type": "code",
   "execution_count": 11,
   "metadata": {},
   "outputs": [],
   "source": [
    "if bool_plot == False:\n",
    "    # visualize lower cutoff for filtering cells based on the number of genes\n",
    "    fig, (ax0, ax1, ax2, ax3) = plt.subplots(ncols=4, figsize=(15,5))\n",
    "    ax0.hist(adata_r.obs[\"n_genes\"], bins=100, color='c', edgecolor='k', alpha=0.65)\n",
    "    ax0.axvline(1000, color='k', linestyle='dashed', linewidth=1)\n",
    "    ax0.set_title('n_genes')\n",
    "    ax1.hist(adata_r.obs[\"n_counts\"], bins=100, color='c', edgecolor='k', alpha=0.65)\n",
    "    ax1.set_title('n_counts')\n",
    "    ax2.hist(adata_r.obs[\"n_counts_transcripts\"], bins=100, color='c', edgecolor='k', alpha=0.65)\n",
    "    ax2.set_title('n_counts_transcripts')\n",
    "    ax3.hist(adata_r.obs[\"n_counts_ERCC\"], bins=100, color='c', edgecolor='k', alpha=0.65)\n",
    "    ax3.set_title('n_counts_ERCC')\n",
    "    plt.show()"
   ]
  },
  {
   "cell_type": "code",
   "execution_count": 12,
   "metadata": {},
   "outputs": [],
   "source": [
    "if bool_recomp == False:   \n",
    "    # remove cells that have no genes expressed in order to better visualize the cutoffs\n",
    "    sc.pp.filter_cells(adata_r, min_genes=1)\n",
    "    sc.pp.filter_cells(adata_r, min_counts=1)\n",
    "\n",
    "    # filtering of the cells and genes\n",
    "    sc.pp.filter_cells(adata_r, min_genes=1000) \n",
    "    sc.pp.filter_genes(adata_r, min_cells=25) # roughly 1% of the population\n",
    "    sc.pp.filter_genes(adata_r, min_counts=250)\n",
    "\n",
    "    ## further filtering: \n",
    "    adata_qc = adata_r.copy()\n",
    "    \n",
    "    # remove cells with more than 7000 genes covered\n",
    "    adata_qc = adata_qc[adata_qc.obs['n_genes'] < 4500, :]  # 7000\n",
    "\n",
    "    # remove cells with less than 10,000 transcript counts\n",
    "    adata_qc = adata_qc[adata_qc.obs['n_counts_transcripts'] > 10000, :]  # 10000\n",
    "    \n",
    "    # remove cells with more than 300,000 transcript counts\n",
    "    adata_qc = adata_qc[adata_qc.obs['n_counts_transcripts'] < 200000, :]   #. 300000\n",
    "    \n",
    "    sc.write(sc_settings_writedir+'adata_qc.h5ad',adata_qc)\n",
    "else:\n",
    "    adata_qc = sc.read(sc_settings_writedir+'adata_qc.h5ad') "
   ]
  },
  {
   "cell_type": "code",
   "execution_count": 13,
   "metadata": {},
   "outputs": [],
   "source": [
    "if bool_plot == False:\n",
    "    sc.pl.violin(adata=adata_qc, \n",
    "                 keys=['n_genes','n_counts','n_counts_ERCC','n_counts_transcripts'],\n",
    "                 jitter=0.4, \n",
    "                 multi_panel=True,\n",
    "                 save=True\n",
    "    ) "
   ]
  },
  {
   "cell_type": "markdown",
   "metadata": {},
   "source": [
    "## Normalization - scran"
   ]
  },
  {
   "cell_type": "code",
   "execution_count": 14,
   "metadata": {},
   "outputs": [],
   "source": [
    "if bool_recomp == False:   \n",
    "    np.mean(adata_qc.obs[\"n_counts_transcripts\"])\n",
    "\n",
    "    red_trans = []\n",
    "    for i in adata_qc.var_names:\n",
    "        if i[0:3] == \"ENS\":\n",
    "            red_trans.append(i) # endogeneous transcripts\n",
    "\n",
    "    adata = adata_qc[:,red_trans].copy() \n",
    "\n",
    "    # split ERCC counts into a different object\n",
    "    ERCC = []\n",
    "    for i in adata_qc.var_names:\n",
    "        if i[0:3] != \"ENS\" and i[0:2] != \"__\":\n",
    "            ERCC.append(i)\n",
    "\n",
    "    adataERCC = adata_qc[:,ERCC].copy()\n",
    "\n",
    "    data_mat = adata.X.T\n",
    "    #input_groups = adata_pp.obs['groups']\n",
    "\n",
    "    erccs = adataERCC.X.T\n",
    "    ############################################################################\n",
    "    # run R code in separate cell\n",
    "    #%%R -i data_mat -i erccs  -o size_factors -o spike_factors  #-i input_groups\n",
    "\n",
    "    #sce <- SingleCellExperiment(list(counts=data_mat))\n",
    "    #sce2 <- SingleCellExperiment(list(counts=erccs))\n",
    "    #altExp(sce, \"ERCC\") <- sce2\n",
    "    \n",
    "    #sce = computeSumFactors(sce, min.mean=0.001)   # clusters=input_groups,\n",
    "    #size_factors = sizeFactors(sce)\n",
    "    #sce2 <- computeSpikeFactors(sce, \"ERCC\")\n",
    "    #spike_factors = sizeFactors(sce2)\n",
    "    ###########################################################################\n",
    "    len(size_factors)\n",
    "    len(spike_factors)\n",
    "    \n",
    "    # Visualize the estimated size factors\n",
    "    adata.obs['size_factors'] = size_factors\n",
    "\n",
    "    sc.pl.scatter(adata, 'size_factors', 'n_counts_transcripts')\n",
    "    sc.pl.scatter(adata, 'size_factors', 'n_counts_transcripts')\n",
    "    sc.pl.scatter(adata, 'size_factors', 'n_genes')\n",
    "\n",
    "    sns.distplot(size_factors, bins=50, kde=False)\n",
    "    \n",
    "    #Normalize adata \n",
    "    adata.X /= adata.obs['size_factors'].values[:,None]\n",
    "    adata.layers[\"norm_counts\"] = adata.X.copy()\n",
    "    adata.obs['n_counts_norm'] = adata.X.sum(1)\n",
    "    sc.pp.log1p(adata)\n",
    "\n",
    "    adata.var =adata.var.set_index(adata.var['gene_name'])\n",
    "    adata.var=adata.var[['gene_name','n_cells','n_counts']]\n",
    "\n",
    "    adata.var = pd.DataFrame(index=list(adata.var['gene_name']))\n",
    "\n",
    "    adata.raw = adata\n",
    "    sns.distplot(adata.obs[\"n_counts_norm\"], bins=50, kde=False)\n",
    "    \n",
    "    # Filtering of normalized counts\n",
    "    adata = adata[adata.obs[\"n_counts_norm\"] < 200000]"
   ]
  },
  {
   "cell_type": "markdown",
   "metadata": {},
   "source": [
    "### UMAP visualisation after normalisation"
   ]
  },
  {
   "cell_type": "code",
   "execution_count": 15,
   "metadata": {},
   "outputs": [
    {
     "name": "stderr",
     "output_type": "stream",
     "text": [
      "Variable names are not unique. To make them unique, call `.var_names_make_unique`.\n",
      "running PAGA\n",
      "    finished: added\n",
      "    'paga/connectivities', connectivities adjacency (adata.uns)\n",
      "    'paga/connectivities_tree', connectivities subtree (adata.uns) (0:00:00)\n"
     ]
    }
   ],
   "source": [
    "if bool_recomp == False: \n",
    "    sc.pp.pca(adata, n_comps=15)\n",
    "    sc.pp.neighbors(adata, n_neighbors=50)\n",
    "    sc.tl.tsne(adata, perplexity=30, n_pcs=15)\n",
    "    sc.tl.umap(adata)\n",
    "    sc.tl.leiden(adata, resolution=0.5)\n",
    "    if bool_recluster == True:\n",
    "        sc.tl.leiden(adata, resolution=0.5)\n",
    "        pd.DataFrame(adata.obs).to_csv(path_or_buf=sc_settings_writedir+'obs_adata_astro.csv')\n",
    "    else:\n",
    "        obs = pd.read_csv(sc_settings_writedir+'obs_adata_astro.csv')\n",
    "        adata.obs['leiden']=pd.Series(obs['leiden'].values, dtype = 'category')\n",
    "    \n",
    "    sc.write(sc_settings_writedir+'adata.h5ad',adata)\n",
    "else:\n",
    "    adata = sc.read(sc_settings_writedir+'adata.h5ad') \n",
    "sc.tl.paga(adata)"
   ]
  },
  {
   "cell_type": "code",
   "execution_count": 19,
   "metadata": {},
   "outputs": [],
   "source": [
    "if bool_plot == False:\n",
    "    sc.pl.umap(adata, color=[\"n_counts_norm\",\"n_genes\",\"condition\"])\n",
    "    sc.pl.umap(adata, color=[\"leiden\",\"experiment\",\"plate\"])"
   ]
  },
  {
   "cell_type": "markdown",
   "metadata": {},
   "source": [
    "## Batch correction"
   ]
  },
  {
   "cell_type": "code",
   "execution_count": 17,
   "metadata": {
    "scrolled": false
   },
   "outputs": [
    {
     "name": "stderr",
     "output_type": "stream",
     "text": [
      "Variable names are not unique. To make them unique, call `.var_names_make_unique`.\n",
      "running PAGA\n",
      "    finished: added\n",
      "    'paga/connectivities', connectivities adjacency (adata.uns)\n",
      "    'paga/connectivities_tree', connectivities subtree (adata.uns) (0:00:00)\n"
     ]
    }
   ],
   "source": [
    "if bool_recomp == False:\n",
    "    adata_f = adata.copy()\n",
    "    adata_f.raw = adata\n",
    "    sc.pp.combat(adata_f, key=\"plate\") #  experiment plate\n",
    "    sc.pp.pca(adata_f, n_comps=15)\n",
    "    sc.pp.neighbors(adata_f, n_neighbors=50)\n",
    "    sc.tl.tsne(adata_f, perplexity=30, n_pcs=15)\n",
    "    sc.tl.umap(adata_f)\n",
    "    sc.tl.leiden(adata_f, resolution=0.5)\n",
    "    sc.write(sc_settings_writedir+'adata_f.h5ad', adata_f)\n",
    "else:\n",
    "    adata_f = sc.read(sc_settings_writedir+'adata_f.h5ad') \n",
    "sc.tl.paga(adata_f)"
   ]
  },
  {
   "cell_type": "markdown",
   "metadata": {},
   "source": [
    "## Visualisation\n",
    "#### UMAP"
   ]
  },
  {
   "cell_type": "code",
   "execution_count": 21,
   "metadata": {},
   "outputs": [],
   "source": [
    "if bool_plot == False:\n",
    "    sc.pl.umap(adata_f, color=[\"n_counts_norm\",\"n_genes\",\"condition\"])\n",
    "    sc.pl.umap(adata_f, color=[\"leiden\",\"experiment\",\"plate\"])"
   ]
  },
  {
   "cell_type": "markdown",
   "metadata": {},
   "source": [
    "#### UMAP hormone receptors genes"
   ]
  },
  {
   "cell_type": "code",
   "execution_count": 22,
   "metadata": {},
   "outputs": [],
   "source": [
    "if bool_plot == False:\n",
    "    sc.pl.umap(adata_f, color=['Cckar','Insr','Lepr','Glp1r','Chrnb2','Oxt','Avp'], \n",
    "               use_raw=False, color_map=mymap, save=\"_all_HR.pdf\", size=30)"
   ]
  },
  {
   "cell_type": "markdown",
   "metadata": {},
   "source": [
    "#### UMAP of Prader-Willi syndrome genes"
   ]
  },
  {
   "cell_type": "code",
   "execution_count": 80,
   "metadata": {},
   "outputs": [],
   "source": [
    "if bool_plot == False:\n",
    "    sc.pl.umap(adata_f, color=['Trappc9','Sim1','Omg','Snrpn','Sertad4','Asap2','Dok6',\n",
    "                               'Sacs','Abcd2','Camk2g','Magel2','Arnt','Otp','Pou3f2','Nr2c2'],\n",
    "               use_raw=False, color_map=mymap, save=\"_all_PWS.pdf\", size=30)"
   ]
  },
  {
   "cell_type": "code",
   "execution_count": 23,
   "metadata": {},
   "outputs": [
    {
     "name": "stderr",
     "output_type": "stream",
     "text": [
      "/Library/Frameworks/Python.framework/Versions/3.9/lib/python3.9/site-packages/pandas/core/arrays/categorical.py:2487: FutureWarning: The `inplace` parameter in pandas.Categorical.remove_unused_categories is deprecated and will be removed in a future version.\n",
      "  res = method(*args, **kwargs)\n",
      "Variable names are not unique. To make them unique, call `.var_names_make_unique`.\n",
      "Variable names are not unique. To make them unique, call `.var_names_make_unique`.\n",
      "Variable names are not unique. To make them unique, call `.var_names_make_unique`.\n",
      "Variable names are not unique. To make them unique, call `.var_names_make_unique`.\n"
     ]
    }
   ],
   "source": [
    "adata_0=adata_f[adata_f.obs['condition']=='CHOW',]\n",
    "adata_1=adata_f[adata_f.obs['condition']=='HFD',]\n",
    "adata_0.var_names_make_unique()\n",
    "adata_1.var_names_make_unique()"
   ]
  },
  {
   "cell_type": "markdown",
   "metadata": {},
   "source": [
    "#### Binary UMAP of Cckar expressing cells"
   ]
  },
  {
   "cell_type": "code",
   "execution_count": 34,
   "metadata": {},
   "outputs": [],
   "source": [
    "if bool_plot == False: \n",
    "    # all cells\n",
    "    adata_f.obs['cckar'] = np.select([adata_f.raw[:,'Cckar'].X>0], ['cckar'])\n",
    "    c = pd.Categorical(adata_f.obs['cckar'])\n",
    "    adata_f.obs['cckar'] = c.rename_categories({'cckar': 'cckar', '0': 'none'})\n",
    "    \n",
    "    sc.pl.umap(adata_f, \n",
    "               color=['cckar'],\n",
    "               use_raw=False,  \n",
    "               title='Cckar_all', \n",
    "               palette=['silver','red'],\n",
    "               size=30\n",
    "    )\n",
    "    # chow cells\n",
    "    adata_0.obs['cckar'] = np.select([adata_0.raw[:,'Cckar'].X>0], ['cckar'])\n",
    "    c = pd.Categorical(adata_0.obs['cckar'])\n",
    "    adata_0.obs['cckar'] = c.rename_categories({'cckar': 'cckar', '0': 'none'})\n",
    "\n",
    "    sc.pl.umap(adata_0,\n",
    "               color=['cckar'], \n",
    "               use_raw=False,\n",
    "               title='Cckar_chow', \n",
    "               palette=['silver','red'],\n",
    "               size=30\n",
    "    )\n",
    "    # hfd cells\n",
    "    adata_1.obs['cckar'] = np.select([adata_1.raw[:,'Cckar'].X>0], ['cckar'])\n",
    "    c = pd.Categorical(adata_1.obs['cckar'])\n",
    "    adata_1.obs['cckar'] = c.rename_categories({'cckar': 'cckar', '0': 'none'})\n",
    "\n",
    "    sc.pl.umap(adata_1,\n",
    "               color=['cckar'], \n",
    "               use_raw=False,\n",
    "               title='Cckar_hfd', \n",
    "               palette=['silver','red'],\n",
    "               size=30\n",
    "    )"
   ]
  },
  {
   "cell_type": "markdown",
   "metadata": {},
   "source": [
    "#### Barplot compare diets"
   ]
  },
  {
   "cell_type": "code",
   "execution_count": 29,
   "metadata": {},
   "outputs": [],
   "source": [
    "if bool_plot == False:\n",
    "    fig = plt.figure()\n",
    "    fig.set_size_inches(2, 3)\n",
    "    ax = fig.add_axes([0,0,1,1])\n",
    "    langs = list(adata_f.obs['cckar'].value_counts().index)\n",
    "    students = (adata_1.obs['cckar'].value_counts()/adata_0.obs['cckar'].value_counts()-1)*100\n",
    "    ax.bar(langs,students)\n",
    "    plt.ylabel(\"percent of increase comparing to chow (%)\")\n",
    "    plt.title(\"Substraction hfd - chow\")\n",
    "    plt.show()"
   ]
  },
  {
   "cell_type": "markdown",
   "metadata": {},
   "source": [
    "#### Dotplot of clusters using markers"
   ]
  },
  {
   "cell_type": "code",
   "execution_count": 31,
   "metadata": {},
   "outputs": [],
   "source": [
    "if bool_plot==False:\n",
    "    marker_genes_clust = {'cluster 1': ['Ecel1','Efnb1','Homer1','Ndufaf1','Trpm7','Rptor','Dcaf13'],\n",
    "                          'cluster 2': ['Fam19a1','Ptger4','Eid2b','Msh2','Haus2'], #,'BC056474' \n",
    "                          'cluster 3': ['Fam19a1','Sim1','Siah1a'], # ,'Rfxp3','Gpr58','Ghsr'\n",
    "                          'cluster 4': ['Th','Serpinb6a','Cacna1g','Dnah8','Slc8a3','Pou3f2'],\n",
    "                          'cluster 5': ['Pmch','Slc17a6']} # 'Penk'\n",
    "    \n",
    "    for i in list(marker_genes_clust.keys()):\n",
    "        marker_genes_clust[i].sort()\n",
    "        \n",
    "    sc.pl.dotplot(adata=adata_0,\n",
    "                  var_names=marker_genes_clust, \n",
    "                  groupby='leiden',\n",
    "                  use_raw=False, \n",
    "                  log=False,  \n",
    "                  vmax=2.15,\n",
    "                  show=True\n",
    "    )\n",
    "    sc.pl.dotplot(adata=adata_1,\n",
    "                  var_names=marker_genes_clust, \n",
    "                  groupby='leiden',\n",
    "                  use_raw=False, \n",
    "                  log=False, \n",
    "                  vmax=2.15,\n",
    "                  show=True\n",
    "    ) "
   ]
  },
  {
   "cell_type": "markdown",
   "metadata": {},
   "source": [
    "#### High-low UMAP of Cckar expressing cells"
   ]
  },
  {
   "cell_type": "code",
   "execution_count": 35,
   "metadata": {},
   "outputs": [],
   "source": [
    "if bool_plot==False:\n",
    "    # all cells\n",
    "    adata_0.obs['cckar'] = np.select([(adata_0.raw[:,'Cckar'].X>=2), (adata_0.raw[:,'Cckar'].X==0), \n",
    "                                      ((adata_0.raw[:,'Cckar'].X<2) & (adata_0.raw[:,'Cckar'].X>0))], ['h', 'nu', 'l'])\n",
    "    c = pd.Categorical(adata_0.obs['cckar'])\n",
    "    adata_0.obs['cckar'] = c.rename_categories({'h': 'high_cckar', 'l': 'low_cckar', 'nu': 'none'})\n",
    "\n",
    "    sc.pl.umap(adata_0,\n",
    "               color=['cckar'],\n",
    "               use_raw=False,\n",
    "               palette=['blue','magenta','silver'],\n",
    "               title='Cckar_all',\n",
    "               size=30\n",
    "    )\n",
    "    # chow cells\n",
    "    adata_1.obs['cckar'] = np.select([(adata_1.raw[:,'Cckar'].X>=2), (adata_1.raw[:,'Cckar'].X==0), \n",
    "                                      ((adata_1.raw[:,'Cckar'].X<2) & (adata_1.raw[:,'Cckar'].X>0))], ['h', 'nu', 'l'])\n",
    "    c = pd.Categorical(adata_1.obs['cckar'])\n",
    "    adata_1.obs['cckar'] = c.rename_categories({'h': 'high_cckar', 'l': 'low_cckar', 'nu': 'none'})\n",
    "\n",
    "    sc.pl.umap(adata_1, \n",
    "               color=['cckar'],\n",
    "               use_raw=False, \n",
    "               palette=['blue','magenta', 'silver'],\n",
    "               title='Cckar_chow',\n",
    "               size=30\n",
    "    )\n",
    "    # hfd cells\n",
    "    adata_f.obs['cckar'] = np.select([(adata_f.raw[:,'Cckar'].X>=2), (adata_f.raw[:,'Cckar'].X==0), \n",
    "                                      ((adata_f.raw[:,'Cckar'].X<2) & (adata_f.raw[:,'Cckar'].X>0))], ['h', 'nu', 'l'])\n",
    "    c = pd.Categorical(adata_f.obs['cckar'])\n",
    "    adata_f.obs['cckar'] = c.rename_categories({'h': 'high_cckar', 'l': 'low_cckar', 'nu': 'none'})\n",
    "\n",
    "    sc.pl.umap(adata_f, \n",
    "               color=['cckar'], \n",
    "               use_raw=False, \n",
    "               palette=['blue','magenta', 'silver'],\n",
    "               title='Cckar_hfd',\n",
    "               size=30\n",
    "    )"
   ]
  },
  {
   "cell_type": "markdown",
   "metadata": {},
   "source": [
    "#### Barplot compare diets"
   ]
  },
  {
   "cell_type": "code",
   "execution_count": 36,
   "metadata": {},
   "outputs": [],
   "source": [
    "if bool_plot == False:\n",
    "    fig = plt.figure()\n",
    "    fig.set_size_inches(3, 3)\n",
    "    ax = fig.add_axes([0,0,1,1])\n",
    "    langs = list(adata_f.obs['cckar'].value_counts().index)\n",
    "    students = (adata_1.obs['cckar'].value_counts()/adata_0.obs['cckar'].value_counts()-1)*100\n",
    "    ax.bar(langs,students)\n",
    "    plt.ylabel(\"percent of increase comparing to chow (%)\")\n",
    "    plt.title(\"Substraction hfd - chow\")\n",
    "    plt.show()"
   ]
  },
  {
   "cell_type": "markdown",
   "metadata": {},
   "source": [
    "#### Prepare data for UpSet plot"
   ]
  },
  {
   "cell_type": "code",
   "execution_count": 51,
   "metadata": {},
   "outputs": [],
   "source": [
    "if bool_recomp == False:\n",
    "    hr=['Cckar','Insr','Lepr','Glp1r','Chrnb2','Adora1','Ntrk2','Ntsr2','Oprk1','Chrm2','Adcyap1','Esr1']\n",
    "    ct=['Th','Nucb2','Slc17a6','Spx','Gal','Glud1']\n",
    "    pw=['Trappc9','Sim1','Syt4','Omg','Snrpn','Sertad4','Asap2','Dok6','Sacs','Abcd2','Phkb','Camk2g','Magel2','Arnt',\n",
    "        'Otp','Pou3f2','Nr2c2','Fto']\n",
    "    # clusters\n",
    "    adata_f.obs['clust_1'] = (adata_f.raw[:,'Trpm7'].X>0) & (adata_f.raw[:,'Dcaf13'].X>0) & (adata_f.raw[:,'Efnb1'].X==0) & (adata_f.raw[:,'Ndufaf1'].X==0)*1\n",
    "    adata_f.obs['clust_2'] = (adata_f.raw[:,'Fam19a1'].X>0) & (adata_f.raw[:,'Ptger4'].X>0)*1\n",
    "    adata_f.obs['clust_3'] = (adata_f.raw[:,'Fam19a1'].X>0) & (adata_f.raw[:,'Sim1'].X>0)*1\n",
    "    adata_f.obs['clust_4'] = (adata_f.raw[:,'Th'].X>0) & (adata_f.raw[:,'Slc8a3'].X>0) & (adata_f.raw[:,'Pou3f2'].X>0)*1\n",
    "    adata_f.obs['clust_5'] = (adata_f.raw[:,'Pmch'].X>0) & (adata_f.raw[:,'Slc17a6'].X>0)*1\n",
    "\n",
    "    # Hormone receptor and Cckar\n",
    "    adata_f.obs['cckar_lepr'] = (adata_f.raw[:,'Cckar'].X>0) & (adata_f.raw[:,'Lepr'].X>0)*1\n",
    "    adata_f.obs['cckar_insr'] = (adata_f.raw[:,'Cckar'].X>0) & (adata_f.raw[:,'Insr'].X>0)*1\n",
    "    adata_f.obs['cckar_glp1r'] = (adata_f.raw[:,'Cckar'].X>0) & (adata_f.raw[:,'Glp1r'].X>0)*1\n",
    "    adata_f.obs['cckar_chrnb2'] = (adata_f.raw[:,'Cckar'].X>0) & (adata_f.raw[:,'Chrnb2'].X>0)*1\n",
    "    adata_f.obs['cckar_adora1'] = (adata_f.raw[:,'Cckar'].X>0) & (adata_f.raw[:,'Adora1'].X>0)*1\n",
    "    adata_f.obs['cckar_ntrk2'] = (adata_f.raw[:,'Cckar'].X>0) & (adata_f.raw[:,'Ntrk2'].X>0)*1\n",
    "    adata_f.obs['cckar_ntsr2'] = (adata_f.raw[:,'Cckar'].X>0) & (adata_f.raw[:,'Ntsr2'].X>0)*1\n",
    "    adata_f.obs['cckar_oprk1'] = (adata_f.raw[:,'Cckar'].X>0) & (adata_f.raw[:,'Oprk1'].X>0)*1\n",
    "    adata_f.obs['cckar_chrm2'] = (adata_f.raw[:,'Cckar'].X>0) & (adata_f.raw[:,'Chrm2'].X>0)*1\n",
    "    adata_f.obs['cckar_adcyap1'] = (adata_f.raw[:,'Cckar'].X>0) & (adata_f.raw[:,'Adcyap1'].X>0)*1\n",
    "    adata_f.obs['cckar_esr1'] = (adata_f.raw[:,'Cckar'].X>0) & (adata_f.raw[:,'Esr1'].X>0)*1\n",
    "\n",
    "    # Co-transmiter and Cckar\n",
    "    adata_f.obs['cckar_nucb2'] = (adata_f.raw[:,'Cckar'].X>0) & (adata_f.raw[:,'Nucb2'].X>0)*1\n",
    "    adata_f.obs['cckar_th'] = (adata_f.raw[:,'Cckar'].X>0) & (adata_f.raw[:,'Th'].X>0)*1\n",
    "    adata_f.obs['cckar_slc17a6'] = (adata_f.raw[:,'Cckar'].X>0) & (adata_f.raw[:,'Slc17a6'].X>0)*1\n",
    "    adata_f.obs['cckar_spx'] = (adata_f.raw[:,'Cckar'].X>0) & (adata_f.raw[:,'Spx'].X>0)*1\n",
    "    adata_f.obs['cckar_gal'] = (adata_f.raw[:,'Cckar'].X>0) & (adata_f.raw[:,'Gal'].X>0)*1\n",
    "    adata_f.obs['cckar_glud1'] = (adata_f.raw[:,'Cckar'].X>0) & (adata_f.raw[:,'Glud1'].X>0)*1\n",
    "\n",
    "    #Prader-Willi Syndrome/Exocytosis anc Cckar\n",
    "    adata_f.obs['cckar_trappc9'] = (adata_f.raw[:,'Cckar'].X>0) & (adata_f.raw[:,'Trappc9'].X>0)*1\n",
    "    adata_f.obs['cckar_sim1'] = (adata_f.raw[:,'Cckar'].X>0) & (adata_f.raw[:,'Sim1'].X>0)*1\n",
    "    adata_f.obs['cckar_syt4'] = (adata_f.raw[:,'Cckar'].X>0) & (adata_f.raw[:,'Syt4'].X>0)*1\n",
    "    adata_f.obs['cckar_omg'] = (adata_f.raw[:,'Cckar'].X>0) & (adata_f.raw[:,'Omg'].X>0)*1\n",
    "    adata_f.obs['cckar_snrpn'] = (adata_f.raw[:,'Cckar'].X>0) & (adata_f.raw[:,'Snrpn'].X>0)*1\n",
    "    adata_f.obs['cckar_sertad4'] = (adata_f.raw[:,'Cckar'].X>0) & (adata_f.raw[:,'Sertad4'].X>0)*1\n",
    "    adata_f.obs['cckar_asap2'] = (adata_f.raw[:,'Cckar'].X>0) & (adata_f.raw[:,'Asap2'].X>0)*1\n",
    "    adata_f.obs['cckar_dok6'] = (adata_f.raw[:,'Cckar'].X>0) & (adata_f.raw[:,'Dok6'].X>0)*1\n",
    "    adata_f.obs['cckar_sacs'] = (adata_f.raw[:,'Cckar'].X>0) & (adata_f.raw[:,'Sacs'].X>0)*1\n",
    "    adata_f.obs['cckar_abcd2'] = (adata_f.raw[:,'Cckar'].X>0) & (adata_f.raw[:,'Abcd2'].X>0)*1\n",
    "    adata_f.obs['cckar_phkb'] = (adata_f.raw[:,'Cckar'].X>0) & (adata_f.raw[:,'Phkb'].X>0)*1\n",
    "    adata_f.obs['cckar_camk2g'] = (adata_f.raw[:,'Cckar'].X>0) & (adata_f.raw[:,'Camk2g'].X>0)*1\n",
    "    adata_f.obs['cckar_magel2'] = (adata_f.raw[:,'Cckar'].X>0) & (adata_f.raw[:,'Magel2'].X>0)*1\n",
    "    adata_f.obs['cckar_arnt'] = (adata_f.raw[:,'Cckar'].X>0) & (adata_f.raw[:,'Arnt'].X>0)*1\n",
    "    adata_f.obs['cckar_otp'] = (adata_f.raw[:,'Cckar'].X>0) & (adata_f.raw[:,'Otp'].X>0)*1\n",
    "    adata_f.obs['cckar_pou3f2'] = (adata_f.raw[:,'Cckar'].X>0) & (adata_f.raw[:,'Pou3f2'].X>0)*1\n",
    "    adata_f.obs['cckar_nr2c2'] = (adata_f.raw[:,'Cckar'].X>0) & (adata_f.raw[:,'Nr2c2'].X>0)*1\n",
    "    adata_f.obs['cckar_fto'] = (adata_f.raw[:,'Cckar'].X>0) & (adata_f.raw[:,'Fto'].X>0)*1\n",
    "\n",
    "    # Hormone receptor\n",
    "    adata_f.obs['cckar'] = (adata_f.raw[:,'Cckar'].X>0)*1\n",
    "    adata_f.obs['lepr'] = (adata_f.raw[:,'Lepr'].X>0)*1\n",
    "    adata_f.obs['insr'] = (adata_f.raw[:,'Insr'].X>0)*1\n",
    "    adata_f.obs['glp1r'] = (adata_f.raw[:,'Glp1r'].X>0)*1\n",
    "    adata_f.obs['chrnb2'] = (adata_f.raw[:,'Chrnb2'].X>0)*1\n",
    "    adata_f.obs['adora1'] = (adata_f.raw[:,'Adora1'].X>0)*1\n",
    "    adata_f.obs['ntrk2'] = (adata_f.raw[:,'Ntrk2'].X>0)*1\n",
    "    adata_f.obs['ntsr2'] = (adata_f.raw[:,'Ntsr2'].X>0)*1\n",
    "    adata_f.obs['oprk1'] = (adata_f.raw[:,'Oprk1'].X>0)*1\n",
    "    adata_f.obs['chrm2'] = (adata_f.raw[:,'Chrm2'].X>0)*1\n",
    "    adata_f.obs['adcyap1'] = (adata_f.raw[:,'Adcyap1'].X>0)*1\n",
    "    adata_f.obs['esr1'] = (adata_f.raw[:,'Esr1'].X>0)*1\n",
    "\n",
    "    # Co-transmiter\n",
    "    adata_f.obs['nucb2'] = (adata_f.raw[:,'Nucb2'].X>0)*1\n",
    "    adata_f.obs['th'] = (adata_f.raw[:,'Th'].X>0)*1\n",
    "    adata_f.obs['slc17a6'] = (adata_f.raw[:,'Slc17a6'].X>0)*1\n",
    "    adata_f.obs['spx'] = (adata_f.raw[:,'Spx'].X>0)*1\n",
    "    adata_f.obs['gal'] =  (adata_f.raw[:,'Gal'].X>0)*1\n",
    "    adata_f.obs['glud1'] = (adata_f.raw[:,'Glud1'].X>0)*1\n",
    "\n",
    "    #Prader-Willi Syndrome/Exocytosis\n",
    "    adata_f.obs['trappc9'] = (adata_f.raw[:,'Trappc9'].X>0)*1\n",
    "    adata_f.obs['sim1'] = (adata_f.raw[:,'Sim1'].X>0)*1\n",
    "    adata_f.obs['syt4'] = (adata_f.raw[:,'Syt4'].X>0)*1\n",
    "    adata_f.obs['omg'] = (adata_f.raw[:,'Omg'].X>0)*1\n",
    "    adata_f.obs['snrpn'] = (adata_f.raw[:,'Snrpn'].X>0)*1\n",
    "    adata_f.obs['sertad4'] = (adata_f.raw[:,'Sertad4'].X>0)*1\n",
    "    adata_f.obs['asap2'] = (adata_f.raw[:,'Asap2'].X>0)*1\n",
    "    adata_f.obs['dok6'] = (adata_f.raw[:,'Dok6'].X>0)*1\n",
    "    adata_f.obs['sacs'] = (adata_f.raw[:,'Sacs'].X>0)*1\n",
    "    adata_f.obs['abcd2'] = (adata_f.raw[:,'Abcd2'].X>0)*1\n",
    "    adata_f.obs['phkb'] = (adata_f.raw[:,'Phkb'].X>0)*1\n",
    "    adata_f.obs['camk2g'] = (adata_f.raw[:,'Camk2g'].X>0)*1\n",
    "    adata_f.obs['magel2'] = (adata_f.raw[:,'Magel2'].X>0)*1\n",
    "    adata_f.obs['arnt'] = (adata_f.raw[:,'Arnt'].X>0)*1\n",
    "    adata_f.obs['otp'] = (adata_f.raw[:,'Otp'].X>0)*1\n",
    "    adata_f.obs['pou3f2'] = (adata_f.raw[:,'Pou3f2'].X>0)*1\n",
    "    adata_f.obs['nr2c2'] = (adata_f.raw[:,'Nr2c2'].X>0)*1\n",
    "    adata_f.obs['fto'] = (adata_f.raw[:,'Fto'].X>0)*1\n",
    "    \n",
    "    adata_f.obs.to_csv(\"adata_f.obs.csv\")"
   ]
  },
  {
   "cell_type": "markdown",
   "metadata": {},
   "source": [
    "#### UMAP of clusters defined by markers"
   ]
  },
  {
   "cell_type": "code",
   "execution_count": 38,
   "metadata": {},
   "outputs": [],
   "source": [
    "if bool_plot == False:\n",
    "    sc.pl.umap(adata_f[adata_f.obs['condition']=='CHOW',],\n",
    "               color=['clust_1','clust_2','clust_3'],\n",
    "               use_raw=False,\n",
    "               palette=['blue', 'silver'],\n",
    "               size=30\n",
    "    )\n",
    "    sc.pl.umap(adata_f[adata_f.obs['condition']=='CHOW',],\n",
    "               color=['clust_4','clust_5'],\n",
    "               use_raw=False,\n",
    "               palette=['blue', 'silver'], \n",
    "               size=30\n",
    "    )"
   ]
  },
  {
   "cell_type": "code",
   "execution_count": 37,
   "metadata": {},
   "outputs": [],
   "source": [
    "if bool_plot == False:\n",
    "    sc.pl.umap(adata_f[adata_f.obs['condition']=='HFD',],\n",
    "               color=['clust_1','clust_2','clust_3'],\n",
    "               use_raw=False, \n",
    "               palette=['blue', 'silver'],\n",
    "               size=30\n",
    "    )\n",
    "    sc.pl.umap(adata_f[adata_f.obs['condition']=='HFD',],\n",
    "               color=['clust_4','clust_5'],\n",
    "               use_raw=False,\n",
    "               palette=['blue', 'silver'],\n",
    "               size=30\n",
    "    )"
   ]
  }
 ],
 "metadata": {
  "kernelspec": {
   "display_name": "Python 3",
   "language": "python",
   "name": "python3"
  },
  "language_info": {
   "codemirror_mode": {
    "name": "ipython",
    "version": 3
   },
   "file_extension": ".py",
   "mimetype": "text/x-python",
   "name": "python",
   "nbconvert_exporter": "python",
   "pygments_lexer": "ipython3",
   "version": "3.9.2"
  }
 },
 "nbformat": 4,
 "nbformat_minor": 4
}
